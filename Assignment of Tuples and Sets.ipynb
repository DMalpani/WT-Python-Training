{
 "cells": [
  {
   "cell_type": "code",
   "execution_count": null,
   "id": "045503f7",
   "metadata": {},
   "outputs": [],
   "source": [
    "#1. Write a Python program to create a tuple."
   ]
  },
  {
   "cell_type": "code",
   "execution_count": 1,
   "id": "4613fa7b",
   "metadata": {},
   "outputs": [
    {
     "name": "stdout",
     "output_type": "stream",
     "text": [
      "User define tuple :  ()\n",
      "Using built-in function :  ()\n"
     ]
    }
   ],
   "source": [
    "x = ()\n",
    "print(\"User define tuple : \",x)\n",
    "\n",
    "#Create an empty tuple with tuple() function built-in Python\n",
    "tuplex = tuple()\n",
    "print(\"Using built-in function : \",tuplex)"
   ]
  },
  {
   "cell_type": "code",
   "execution_count": null,
   "id": "9cd77cb0",
   "metadata": {},
   "outputs": [],
   "source": [
    "#2. Write a Python program to create a tuple with different data types"
   ]
  },
  {
   "cell_type": "code",
   "execution_count": 3,
   "id": "e156ab5c",
   "metadata": {},
   "outputs": [
    {
     "name": "stdout",
     "output_type": "stream",
     "text": [
      "Tuple with different data types :  ('tuple', False, 3.2, 1)\n"
     ]
    }
   ],
   "source": [
    "tup = (\"tuple\", False, 3.2, 1)\n",
    "print(\"Tuple with different data types : \",tup)"
   ]
  },
  {
   "cell_type": "code",
   "execution_count": null,
   "id": "f1d3252a",
   "metadata": {},
   "outputs": [],
   "source": [
    "#3. Write a Python program to create a tuple with numbers and print one item. "
   ]
  },
  {
   "cell_type": "code",
   "execution_count": 6,
   "id": "62b0ed8d",
   "metadata": {},
   "outputs": [
    {
     "name": "stdout",
     "output_type": "stream",
     "text": [
      "Tuple with numbers :  (5, 10, 15, 20, 25)\n",
      "Just printing one item :  15\n"
     ]
    }
   ],
   "source": [
    "t1 = 5, 10, 15, 20, 25\n",
    "print(\"Tuple with numbers : \",t1)\n",
    "print(\"Just printing one item : \",t1[2])"
   ]
  },
  {
   "cell_type": "code",
   "execution_count": null,
   "id": "76dcb7c6",
   "metadata": {},
   "outputs": [],
   "source": [
    "#4. Write a Python program to unpack a tuple in several variables. "
   ]
  },
  {
   "cell_type": "code",
   "execution_count": 7,
   "id": "83fbc82f",
   "metadata": {},
   "outputs": [
    {
     "name": "stdout",
     "output_type": "stream",
     "text": [
      "apple\n",
      "banana\n",
      "cherry\n"
     ]
    }
   ],
   "source": [
    "fruits = ('apple','banana','cherry')\n",
    "(green,yellow,red) = fruits\n",
    "print(green)\n",
    "print(yellow)\n",
    "print(red)"
   ]
  },
  {
   "cell_type": "code",
   "execution_count": null,
   "id": "a745a2fa",
   "metadata": {},
   "outputs": [],
   "source": [
    "#5. Write a Python program to add an item in a tuple."
   ]
  },
  {
   "cell_type": "code",
   "execution_count": 13,
   "id": "b176dc01",
   "metadata": {},
   "outputs": [
    {
     "name": "stdout",
     "output_type": "stream",
     "text": [
      "Original tuple :  ('apple', 'cherry', 'kiwi')\n",
      "After adding an item tuple is : ('apple', 'cherry', 'kiwi', 'orange')\n"
     ]
    }
   ],
   "source": [
    "x = ('apple','cherry','kiwi')\n",
    "print(\"Original tuple : \",x)\n",
    "y = list(x)\n",
    "y.append('orange')\n",
    "x = tuple(y)\n",
    "print(\"After adding an item tuple is :\",x)"
   ]
  },
  {
   "cell_type": "code",
   "execution_count": null,
   "id": "c4aa4b51",
   "metadata": {},
   "outputs": [],
   "source": [
    "#6. Write a Python program to convert a tuple to a string. "
   ]
  },
  {
   "cell_type": "code",
   "execution_count": 16,
   "id": "05bf36e6",
   "metadata": {},
   "outputs": [
    {
     "name": "stdout",
     "output_type": "stream",
     "text": [
      "String is : Python\n"
     ]
    }
   ],
   "source": [
    "tup = ('P','y','t','h','o','n')\n",
    "str =  ''.join(tup)\n",
    "print(\"String is :\",str)"
   ]
  },
  {
   "cell_type": "code",
   "execution_count": null,
   "id": "d18ad8c0",
   "metadata": {},
   "outputs": [],
   "source": [
    "#7. Write a Python program to get the 4th element and 4th element from last of a\n",
    "tuple. "
   ]
  },
  {
   "cell_type": "code",
   "execution_count": 20,
   "id": "4684885d",
   "metadata": {},
   "outputs": [
    {
     "name": "stdout",
     "output_type": "stream",
     "text": [
      "4th element from start :  55\n",
      "4th element from end :  33\n"
     ]
    }
   ],
   "source": [
    "#      0   1  2  3  4  5\n",
    "tup = (11,22,33,44,55,66)\n",
    "#      -6 -5 -4 -3 -2 -1\n",
    "print(\"4th element from start : \",tup[4])\n",
    "print(\"4th element from end : \",tup[-4])\n"
   ]
  },
  {
   "cell_type": "code",
   "execution_count": null,
   "id": "b342dc64",
   "metadata": {},
   "outputs": [],
   "source": [
    "#8. Write a Python program to reverse a tuple."
   ]
  },
  {
   "cell_type": "code",
   "execution_count": 25,
   "id": "0f9b7a88",
   "metadata": {},
   "outputs": [
    {
     "name": "stdout",
     "output_type": "stream",
     "text": [
      "Original tuple :  (11, 22, 33, 44, 55, 66)\n",
      "Original tuple :  (66, 55, 44, 33, 22, 11)\n"
     ]
    }
   ],
   "source": [
    "x = (11,22,33,44,55,66)\n",
    "print(\"Original tuple : \",x)\n",
    "y = reversed(x)\n",
    "print(\"Original tuple : \",tuple(y))"
   ]
  },
  {
   "cell_type": "code",
   "execution_count": null,
   "id": "776c1bc2",
   "metadata": {},
   "outputs": [],
   "source": [
    "#9. Write a Python program to find the repeated items of a tuple"
   ]
  },
  {
   "cell_type": "code",
   "execution_count": 26,
   "id": "5767f5c2",
   "metadata": {},
   "outputs": [
    {
     "name": "stdout",
     "output_type": "stream",
     "text": [
      "Original tuple :  (2, 4, 5, 6, 2, 3, 4, 4, 7)\n",
      "Repeated items of tuple : 3\n"
     ]
    }
   ],
   "source": [
    "tup = 2, 4, 5, 6, 2, 3, 4, 4, 7 \n",
    "print(\"Original tuple : \",tup)\n",
    "#return the number of times it appears in the tuple.\n",
    "count = tup.count(4)\n",
    "print(\"Repeated items of tuple :\",count)"
   ]
  },
  {
   "cell_type": "code",
   "execution_count": null,
   "id": "4688d8e8",
   "metadata": {},
   "outputs": [],
   "source": [
    "#10. Write a Python program to check whether an element exists\n",
    "within a tuple."
   ]
  },
  {
   "cell_type": "code",
   "execution_count": 29,
   "id": "c2369ff5",
   "metadata": {},
   "outputs": [
    {
     "name": "stdout",
     "output_type": "stream",
     "text": [
      "Its exist in tuple :  True\n",
      "Its not exist in tuple :  False\n"
     ]
    }
   ],
   "source": [
    "t1 = (\"a\", 3, \"p\", \"p\", \"l\", \"e\")\n",
    "print(\"Its exist in tuple : \",\"p\" in t1)\n",
    "print(\"Its not exist in tuple : \",5 in t1)"
   ]
  },
  {
   "cell_type": "code",
   "execution_count": null,
   "id": "a14495a5",
   "metadata": {},
   "outputs": [],
   "source": [
    "#11. Write a Python program to convert a list to a tuple"
   ]
  },
  {
   "cell_type": "code",
   "execution_count": 31,
   "id": "c580b12d",
   "metadata": {},
   "outputs": [
    {
     "name": "stdout",
     "output_type": "stream",
     "text": [
      "Its List type collection :  [15, 10, 40, 4, 95, 33]\n",
      "Its Tuple type collection :  (15, 10, 40, 4, 95, 33)\n"
     ]
    }
   ],
   "source": [
    "lst = [15, 10, 40, 4, 95, 33]\n",
    "print(\"Its List type collection : \",lst)\n",
    "tup = tuple(lst)\n",
    "print(\"Its Tuple type collection : \",tup)"
   ]
  },
  {
   "cell_type": "code",
   "execution_count": null,
   "id": "02fea73d",
   "metadata": {},
   "outputs": [],
   "source": [
    "#12. Write a Python program to remove an item from a tuple."
   ]
  },
  {
   "cell_type": "code",
   "execution_count": 33,
   "id": "d13746d4",
   "metadata": {},
   "outputs": [
    {
     "name": "stdout",
     "output_type": "stream",
     "text": [
      "Original tuple :  ('apple', 'cherry', 'kiwi')\n",
      "After removing tuple is : ('apple', 'cherry')\n"
     ]
    }
   ],
   "source": [
    "x = ('apple','cherry','kiwi')\n",
    "print(\"Original tuple : \",x)\n",
    "y = list(x)\n",
    "y.remove('kiwi')\n",
    "x = tuple(y)\n",
    "print(\"After removing tuple is :\",x)"
   ]
  },
  {
   "cell_type": "code",
   "execution_count": null,
   "id": "f488612b",
   "metadata": {},
   "outputs": [],
   "source": [
    "#13. Write a Python program to slice a tuple. "
   ]
  },
  {
   "cell_type": "code",
   "execution_count": 34,
   "id": "c01558b1",
   "metadata": {},
   "outputs": [
    {
     "name": "stdout",
     "output_type": "stream",
     "text": [
      "(5, 4)\n",
      "(2, 4, 3, 5, 4, 6)\n",
      "(6, 7, 8, 6, 1)\n",
      "(2, 4, 3, 5, 4, 6, 7, 8, 6, 1)\n",
      "(3, 5, 4, 6)\n"
     ]
    }
   ],
   "source": [
    "tup = (2, 4, 3, 5, 4, 6, 7, 8, 6, 1)\n",
    "\n",
    "#slicing from start:end\n",
    "slc = tup[3:5]\n",
    "print(slc)\n",
    "\n",
    "#if the start index isn't defined, is taken from the beginning of the tuple\n",
    "slc = tup[:6]\n",
    "print(slc)\n",
    "\n",
    "#if the end index isn't defined, is taken until the end of the tuple\n",
    "slc = tup[5:]\n",
    "print(slc)\n",
    "\n",
    "##if neither is defined, returns the full tuple\n",
    "slc = tup[:]\n",
    "print(slc)\n",
    "\n",
    "##The indexes can be defined with negative values\n",
    "slc = tup[-8:-4]\n",
    "print(slc)\n",
    "\n"
   ]
  },
  {
   "cell_type": "code",
   "execution_count": null,
   "id": "e9afdeda",
   "metadata": {},
   "outputs": [],
   "source": [
    "14. Write a Python program to find the index of an item of a tuple. "
   ]
  },
  {
   "cell_type": "code",
   "execution_count": 35,
   "id": "c736d1b8",
   "metadata": {},
   "outputs": [
    {
     "name": "stdout",
     "output_type": "stream",
     "text": [
      "Index of 'e' : 1\n"
     ]
    }
   ],
   "source": [
    "#index()= give 1st position of that given element\n",
    "        #  0   1   2   3   4\n",
    "vowels = ('a','e','i','o','u')\n",
    "index = vowels.index('e')\n",
    "print(\"Index of 'e' :\",index)"
   ]
  },
  {
   "cell_type": "code",
   "execution_count": null,
   "id": "7eaba5e5",
   "metadata": {},
   "outputs": [],
   "source": [
    "15. Write a Python program to find the length of a tuple. "
   ]
  },
  {
   "cell_type": "code",
   "execution_count": 38,
   "id": "13a49862",
   "metadata": {},
   "outputs": [
    {
     "name": "stdout",
     "output_type": "stream",
     "text": [
      "Length of tuple is : 3\n"
     ]
    }
   ],
   "source": [
    "tup = tuple(('apple','cherry','kiwi'))\n",
    "print(\"Length of tuple is :\",len(tup))"
   ]
  },
  {
   "cell_type": "code",
   "execution_count": null,
   "id": "3ef2a97c",
   "metadata": {},
   "outputs": [],
   "source": [
    "16. Write a Python program to sort list of tuple based on sum\n",
    " #Input: [(4, 5), (2, 3), (6, 7), (2, 8)]\n",
    " #Output: [(2, 3), (4, 5), (2, 8), (6, 7)]"
   ]
  },
  {
   "cell_type": "code",
   "execution_count": 40,
   "id": "61580534",
   "metadata": {},
   "outputs": [
    {
     "name": "stdout",
     "output_type": "stream",
     "text": [
      "The original list of tuple is : [(4, 5), (2, 3), (6, 7), (2, 8)]\n",
      "The Output is : [(2, 3), (4, 5), (2, 8), (6, 7)]\n"
     ]
    }
   ],
   "source": [
    "#by using lambda as key to the list of tuples.\n",
    "Input = [(4, 5), (2, 3), (6, 7), (2, 8)] \n",
    "print(\"The original list of tuple is :\",Input)\n",
    "print(\"The Output is :\",sorted(Input, key = lambda x:x[0] + x[1]))"
   ]
  },
  {
   "cell_type": "code",
   "execution_count": null,
   "id": "84e7dd62",
   "metadata": {},
   "outputs": [],
   "source": []
  }
 ],
 "metadata": {
  "kernelspec": {
   "display_name": "Python 3 (ipykernel)",
   "language": "python",
   "name": "python3"
  },
  "language_info": {
   "codemirror_mode": {
    "name": "ipython",
    "version": 3
   },
   "file_extension": ".py",
   "mimetype": "text/x-python",
   "name": "python",
   "nbconvert_exporter": "python",
   "pygments_lexer": "ipython3",
   "version": "3.9.7"
  }
 },
 "nbformat": 4,
 "nbformat_minor": 5
}
