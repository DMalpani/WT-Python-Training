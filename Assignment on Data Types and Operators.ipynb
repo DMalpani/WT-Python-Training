{
 "cells": [
  {
   "cell_type": "code",
   "execution_count": null,
   "id": "42013b87",
   "metadata": {},
   "outputs": [],
   "source": [
    "#Q1-Write a python program to enter two numbers and find their sum."
   ]
  },
  {
   "cell_type": "code",
   "execution_count": 5,
   "id": "33081267",
   "metadata": {},
   "outputs": [
    {
     "name": "stdout",
     "output_type": "stream",
     "text": [
      "Enter first number: 20\n",
      "Enter second number: 30\n",
      "Sum of two numbers is: 50\n"
     ]
    }
   ],
   "source": [
    "a=int(input(\"Enter first number: \"))\n",
    "b=int(input(\"Enter second number: \"))\n",
    "sum=a+b\n",
    "print(\"Sum of two numbers is:\",sum)"
   ]
  },
  {
   "cell_type": "code",
   "execution_count": null,
   "id": "4db82616",
   "metadata": {},
   "outputs": [],
   "source": [
    "#Q2-Write a python program to enter two numbers and perform all arithmetic operations."
   ]
  },
  {
   "cell_type": "code",
   "execution_count": 7,
   "id": "c68d94bd",
   "metadata": {},
   "outputs": [
    {
     "name": "stdout",
     "output_type": "stream",
     "text": [
      "Enter first number3\n",
      "Enter second number2\n",
      "Addition is: 5\n",
      "Substraction is: 1\n",
      "Multiplication is: 6\n",
      "Division is: 1.5\n",
      "Floor division is: 1\n",
      "Exponent is: 9\n",
      "Modulus is: 1\n"
     ]
    }
   ],
   "source": [
    "a=int(input(\"Enter first number\"))\n",
    "b=int(input(\"Enter second number\"))\n",
    "print(\"Addition is:\",a+b)\n",
    "print(\"Substraction is:\",a-b)\n",
    "print(\"Multiplication is:\",a*b)\n",
    "print(\"Division is:\",a/b)\n",
    "print(\"Floor division is:\",a//b)\n",
    "print(\"Exponent is:\",a**b)\n",
    "print(\"Modulus is:\",a%b)\n"
   ]
  },
  {
   "cell_type": "code",
   "execution_count": null,
   "id": "1fccace8",
   "metadata": {},
   "outputs": [],
   "source": [
    "#Q3. Write a Python program to enter length and breadth of a rectangle and find its Area"
   ]
  },
  {
   "cell_type": "code",
   "execution_count": 9,
   "id": "8d62a256",
   "metadata": {},
   "outputs": [
    {
     "name": "stdout",
     "output_type": "stream",
     "text": [
      "Enter length of rectangle8\n",
      "Enter breadth of rectangle4\n",
      "Area of rectangle is: 32\n"
     ]
    }
   ],
   "source": [
    "l=int(input(\"Enter length of rectangle:\"))\n",
    "b=int(input(\"Enter breadth of rectangle:\"))\n",
    "print(\"Area of rectangle is:\",l*b)"
   ]
  },
  {
   "cell_type": "code",
   "execution_count": null,
   "id": "dcafc82a",
   "metadata": {},
   "outputs": [],
   "source": [
    "#Q4. Write a Python program to enter base and height of a triangle and find its area.\n"
   ]
  },
  {
   "cell_type": "code",
   "execution_count": 2,
   "id": "30f7f63f",
   "metadata": {},
   "outputs": [
    {
     "name": "stdout",
     "output_type": "stream",
     "text": [
      "Enter value of base:5\n",
      "Enter value of height:8\n",
      "Area of triangle is: 20.0\n"
     ]
    }
   ],
   "source": [
    "b=int(input(\"Enter value of base:\"))\n",
    "h=int(input(\"Enter value of height:\"))\n",
    "area=((1/2)*(b*h))\n",
    "print(\"Area of triangle is:\",area)"
   ]
  },
  {
   "cell_type": "code",
   "execution_count": null,
   "id": "5b79e0bb",
   "metadata": {},
   "outputs": [],
   "source": [
    "#Q5. Write a python Program to calculate Square of given number"
   ]
  },
  {
   "cell_type": "code",
   "execution_count": 3,
   "id": "14f0a513",
   "metadata": {},
   "outputs": [
    {
     "name": "stdout",
     "output_type": "stream",
     "text": [
      "Enter the number:8\n",
      "Square is:  64\n"
     ]
    }
   ],
   "source": [
    "n=int(input(\"Enter the number:\"))\n",
    "print(\"Square is: \",n**2)"
   ]
  },
  {
   "cell_type": "code",
   "execution_count": null,
   "id": "8e789ecd",
   "metadata": {},
   "outputs": [],
   "source": [
    "#6. Write a python Program to calculate cube of given number"
   ]
  },
  {
   "cell_type": "code",
   "execution_count": 2,
   "id": "b21d1a69",
   "metadata": {},
   "outputs": [
    {
     "name": "stdout",
     "output_type": "stream",
     "text": [
      "Enter the number10\n",
      "Cube is: 1000\n"
     ]
    }
   ],
   "source": [
    "num=int(input(\"Enter the number:\"))\n",
    "print(\"Cube is:\",pow(num,3))"
   ]
  },
  {
   "cell_type": "code",
   "execution_count": null,
   "id": "c194d59b",
   "metadata": {},
   "outputs": [],
   "source": [
    "#7. Write a Python program to enter marks of five subjects and calculate total, average \n",
    "and percentage"
   ]
  },
  {
   "cell_type": "code",
   "execution_count": 1,
   "id": "067d9523",
   "metadata": {},
   "outputs": [
    {
     "name": "stdout",
     "output_type": "stream",
     "text": [
      "enter the marks of first subject:60\n",
      "enter the marks of second subject:70\n",
      "enter the marks of third subject:80\n",
      "enter the marks of fourth subject:90\n",
      "enter the marks of fifth subject:70\n",
      "Total is: 370\n",
      "Average is: 74.0\n",
      "Percentage is: 74.0\n"
     ]
    }
   ],
   "source": [
    "sub1=int(input(\"enter the marks of first subject:\"))\n",
    "sub2=int(input(\"enter the marks of second subject:\"))\n",
    "sub3=int(input(\"enter the marks of third subject:\"))\n",
    "sub4=int(input(\"enter the marks of fourth subject:\"))\n",
    "sub5=int(input(\"enter the marks of fifth subject:\"))\n",
    "total=sub1+sub2+sub3+sub4+sub5\n",
    "print(\"Total is:\",total)\n",
    "print(\"Average is:\",total/5.0)\n",
    "print(\"Percentage is:\",(total/500)*100)"
   ]
  },
  {
   "cell_type": "code",
   "execution_count": null,
   "id": "af54558b",
   "metadata": {},
   "outputs": [],
   "source": [
    "#8. Write a Python program to enter P(Principle amount),T(Time), R(Rate) and calculate Simple Interest."
   ]
  },
  {
   "cell_type": "code",
   "execution_count": 2,
   "id": "ea3a5e3f",
   "metadata": {},
   "outputs": [
    {
     "name": "stdout",
     "output_type": "stream",
     "text": [
      "Enter value of principle amount:3000\n",
      "Enter value of time:1\n",
      "Enter value of rate:7\n",
      "Simple Interest is: 210.0\n"
     ]
    }
   ],
   "source": [
    "p=int(input(\"Enter value of principle amount:\"))\n",
    "t=int(input(\"Enter value of time:\"))\n",
    "r=int(input(\"Enter value of rate:\"))\n",
    "print(\"Simple Interest is:\",(p*t*r)/100)"
   ]
  },
  {
   "cell_type": "code",
   "execution_count": null,
   "id": "18ae2498",
   "metadata": {},
   "outputs": [],
   "source": [
    "#9. Write a Python program to enter length and breadth of a rectangle and find its \n",
    "perimeter.\n"
   ]
  },
  {
   "cell_type": "code",
   "execution_count": 2,
   "id": "c07660f6",
   "metadata": {},
   "outputs": [
    {
     "name": "stdout",
     "output_type": "stream",
     "text": [
      "Enter the value of length:9\n",
      "Enter the value of breadth:16\n",
      "Perimeter of rectangle is : 50\n"
     ]
    }
   ],
   "source": [
    "l=int(input(\"Enter the value of length:\"))\n",
    "b=int(input(\"Enter the value of breadth:\"))\n",
    "peri=2*(l+b)\n",
    "print(\"Perimeter of rectangle is :\",peri)"
   ]
  },
  {
   "cell_type": "code",
   "execution_count": null,
   "id": "330fb66f",
   "metadata": {},
   "outputs": [],
   "source": [
    "#10. Swap values of two integer variables."
   ]
  },
  {
   "cell_type": "code",
   "execution_count": 4,
   "id": "0519e809",
   "metadata": {},
   "outputs": [
    {
     "name": "stdout",
     "output_type": "stream",
     "text": [
      "Enter the value of a:10\n",
      "Enter the value of b:20\n",
      "Value of a: 20 Value of b: 10\n"
     ]
    }
   ],
   "source": [
    "a=int(input(\"Enter the value of a:\"))\n",
    "b=int(input(\"Enter the value of b:\"))\n",
    "a,b=b,a\n",
    "print(\"Value of a:\",a,\"Value of b:\",b)"
   ]
  },
  {
   "cell_type": "code",
   "execution_count": null,
   "id": "a5ae2fc1",
   "metadata": {},
   "outputs": [],
   "source": [
    "#11. Write a program to find a raise to b accept a and b from user"
   ]
  },
  {
   "cell_type": "code",
   "execution_count": 5,
   "id": "3256a01c",
   "metadata": {},
   "outputs": [
    {
     "name": "stdout",
     "output_type": "stream",
     "text": [
      "Enter the value of a2\n",
      "Enter the value of b3\n",
      "a raise to b is: 8\n"
     ]
    }
   ],
   "source": [
    "a=int(input(\"Enter the value of a\"))\n",
    "b=int(input(\"Enter the value of b\"))\n",
    "print(\"a raise to b is:\",pow(a,b))"
   ]
  },
  {
   "cell_type": "code",
   "execution_count": null,
   "id": "068e0773",
   "metadata": {},
   "outputs": [],
   "source": [
    "#12.Write a program to accept 2 number and find greatest"
   ]
  },
  {
   "cell_type": "code",
   "execution_count": 12,
   "id": "d05c0005",
   "metadata": {},
   "outputs": [
    {
     "name": "stdout",
     "output_type": "stream",
     "text": [
      "Enter the value of number1:20\n",
      "Enter the value of number2:500\n",
      "Greatest number is: 500\n"
     ]
    }
   ],
   "source": [
    "num1=int(input(\"Enter the value of number1:\"))\n",
    "num2=int(input(\"Enter the value of number2:\"))\n",
    "maximum=max(num1,num2)\n",
    "print(\"Greatest number is:\",maximum)\n"
   ]
  },
  {
   "cell_type": "code",
   "execution_count": null,
   "id": "917ce97d",
   "metadata": {},
   "outputs": [],
   "source": [
    "#13. Write a program to accept number and check whether positive or negative."
   ]
  },
  {
   "cell_type": "code",
   "execution_count": 15,
   "id": "d54f6652",
   "metadata": {},
   "outputs": [
    {
     "name": "stdout",
     "output_type": "stream",
     "text": [
      "Enter the number-8\n",
      "Number is Negative\n"
     ]
    }
   ],
   "source": [
    "num=int(input(\"Enter the number:\"))\n",
    "if(num > 0):\n",
    "    print(\"Number is positive\")\n",
    "else:\n",
    "    print(\"Number is Negative\")"
   ]
  },
  {
   "cell_type": "code",
   "execution_count": null,
   "id": "1429ef4f",
   "metadata": {},
   "outputs": [],
   "source": [
    "#14. WAP to check whether given number is three digit if yes check whether armstrong \n",
    "or not\n",
    "Eg. 153 -1\n",
    "3\n",
    "+53\n",
    "+33\n",
    "==153 "
   ]
  },
  {
   "cell_type": "code",
   "execution_count": 25,
   "id": "73475ac7",
   "metadata": {},
   "outputs": [
    {
     "name": "stdout",
     "output_type": "stream",
     "text": [
      "Enter the given number:407\n",
      "Given number have 3 digits\n",
      "407 is an armstrong number\n"
     ]
    }
   ],
   "source": [
    "num=int(input(\"Enter the given number:\"))\n",
    "nod=len(str(num))\n",
    "print(\"Given number have\",nod,\"digits\")\n",
    "#initialize sum\n",
    "sum=0\n",
    "#find the sum of the cube of each digit\n",
    "temp=num\n",
    "while temp > 0:\n",
    "    digit = temp % 10\n",
    "    sum = sum + digit ** 3\n",
    "    temp = temp // 10\n",
    "#display the result\n",
    "if num == sum:\n",
    "    print(num,\"is an armstrong number\")\n",
    "else:\n",
    "    print(num,\"is not an armstrong number\")"
   ]
  },
  {
   "cell_type": "code",
   "execution_count": null,
   "id": "adaa9b19",
   "metadata": {},
   "outputs": [],
   "source": [
    "#15. WAP to accept four digit number and do sum of digits"
   ]
  },
  {
   "cell_type": "code",
   "execution_count": 28,
   "id": "b51fd04b",
   "metadata": {},
   "outputs": [
    {
     "name": "stdout",
     "output_type": "stream",
     "text": [
      "Enter the number:1234\n",
      "The total sum of digits is: 4\n",
      "The total sum of digits is: 7\n",
      "The total sum of digits is: 9\n",
      "The total sum of digits is: 10\n"
     ]
    }
   ],
   "source": [
    "num=int(input(\"Enter the number:\"))\n",
    "tot=0\n",
    "while(num > 0):\n",
    "    digit=num % 10\n",
    "    tot=tot + digit\n",
    "    num=num // 10\n",
    "    print(\"The total sum of digits is:\",tot)"
   ]
  },
  {
   "cell_type": "code",
   "execution_count": null,
   "id": "a8a1d894",
   "metadata": {},
   "outputs": [],
   "source": [
    "#16. Write a python program to check whether a number is even or odd"
   ]
  },
  {
   "cell_type": "code",
   "execution_count": 30,
   "id": "8879a6c2",
   "metadata": {},
   "outputs": [
    {
     "name": "stdout",
     "output_type": "stream",
     "text": [
      "Enter the number14\n",
      "14 is even number\n"
     ]
    }
   ],
   "source": [
    "num=int(input(\"Enter the number:\"))\n",
    "if (num % 2 == 0):\n",
    "    print(num,'is even number')\n",
    "else :\n",
    "    print(num,'is odd number')"
   ]
  },
  {
   "cell_type": "code",
   "execution_count": null,
   "id": "16565fff",
   "metadata": {},
   "outputs": [],
   "source": [
    "#17. Write a program to check whether a year is leap year or not"
   ]
  },
  {
   "cell_type": "code",
   "execution_count": 51,
   "id": "5135ca73",
   "metadata": {},
   "outputs": [
    {
     "name": "stdout",
     "output_type": "stream",
     "text": [
      "Enter the year:2012\n",
      "2012 is leap year\n"
     ]
    }
   ],
   "source": [
    "year=int(input(\"Enter the year:\"))\n",
    "if ((year % 400 == 0) or\n",
    "(year % 4 == 0) and \n",
    "(year % 100 != 0)):\n",
    "    print(year,'is leap year')\n",
    "else:\n",
    "    print(year,'is not leap year')"
   ]
  },
  {
   "cell_type": "code",
   "execution_count": null,
   "id": "003aa457",
   "metadata": {},
   "outputs": [],
   "source": [
    "#18. Write a program to check whether a number is divisible by 5 and 11 or not"
   ]
  },
  {
   "cell_type": "code",
   "execution_count": 58,
   "id": "afae7196",
   "metadata": {},
   "outputs": [
    {
     "name": "stdout",
     "output_type": "stream",
     "text": [
      "Enter the number:55\n",
      "Number is divisible by 5 and 11\n"
     ]
    }
   ],
   "source": [
    "num=int(input(\"Enter the number:\"))\n",
    "if ((num % 5 == 0) and\n",
    "    (num % 11 == 0)):\n",
    "    print('Number is divisible by 5 and 11')\n",
    "else:\n",
    "     print('Number is not divisible by 5 and 11')"
   ]
  },
  {
   "cell_type": "code",
   "execution_count": null,
   "id": "e8df32e8",
   "metadata": {},
   "outputs": [],
   "source": [
    "#19. WAP to check whether given number is special 2 digit number or not\n",
    "A special two-digit number is a number such that when the sum of the digits of the \n",
    "number is added to the product of its digits, the result is equal to the original two\u0002digit number."
   ]
  },
  {
   "cell_type": "code",
   "execution_count": 27,
   "id": "1657c534",
   "metadata": {},
   "outputs": [
    {
     "name": "stdout",
     "output_type": "stream",
     "text": [
      "Enter the number:29\n",
      "29 is special number\n"
     ]
    }
   ],
   "source": [
    "num=int(input('Enter the number:'))\n",
    "sum = 0\n",
    "product = 1\n",
    "num1 = num\n",
    "if ((num < 10) or\n",
    "    (num > 99)):\n",
    "    print(\"Invalid input number\",\"please enter two digit number only\")\n",
    "while (num > 0):\n",
    "    ld = num % 10\n",
    "    sum = sum + ld\n",
    "    product = product * ld\n",
    "    num = num // 10\n",
    "if (sum + product == num1):\n",
    "    print(num1,'is special number')\n",
    "else:\n",
    "    print(num1,'is not special number')\n",
    "    "
   ]
  },
  {
   "cell_type": "code",
   "execution_count": null,
   "id": "812785a3",
   "metadata": {},
   "outputs": [],
   "source": [
    "#20. Write a program to input name and basic salary of an employee. Calculate and \n",
    "display the gross salary and net salary when :\n",
    "da = 30% of basic, hra = 12.5% of basic, pf = 10% of basic,\n",
    "gross= basic+ da+ hra, \n",
    "net pay = gross - pf"
   ]
  },
  {
   "cell_type": "code",
   "execution_count": 36,
   "id": "2860c45c",
   "metadata": {},
   "outputs": [
    {
     "name": "stdout",
     "output_type": "stream",
     "text": [
      "Enter basic salary:10000\n",
      "Basic salary is: 10000\n",
      "1)da amount is: 3000.0\n",
      "2)hra amount is: 1250.0\n",
      "3)pf amount is: 1000.0\n",
      "4)Gross salary is: 14250.0\n",
      "5)Net salary is: 13250.0\n"
     ]
    }
   ],
   "source": [
    "bs = int(input(\"Enter basic salary:\"))\n",
    "print('Basic salary is:',bs)\n",
    "da = bs * 30/100\n",
    "print('1)da amount is:',da)\n",
    "hra = bs * 12.5/100\n",
    "print('2)hra amount is:',hra)\n",
    "pf = bs * 10/100\n",
    "print('3)pf amount is:',pf)\n",
    "print(\"4)Gross salary is:\",bs+da+hra)\n",
    "print(\"5)Net salary is:\",(bs+da+hra)-pf)"
   ]
  },
  {
   "cell_type": "code",
   "execution_count": null,
   "id": "32e395c0",
   "metadata": {},
   "outputs": [],
   "source": []
  }
 ],
 "metadata": {
  "kernelspec": {
   "display_name": "Python 3 (ipykernel)",
   "language": "python",
   "name": "python3"
  },
  "language_info": {
   "codemirror_mode": {
    "name": "ipython",
    "version": 3
   },
   "file_extension": ".py",
   "mimetype": "text/x-python",
   "name": "python",
   "nbconvert_exporter": "python",
   "pygments_lexer": "ipython3",
   "version": "3.9.7"
  }
 },
 "nbformat": 4,
 "nbformat_minor": 5
}
