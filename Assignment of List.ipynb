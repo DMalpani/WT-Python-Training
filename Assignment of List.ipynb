{
 "cells": [
  {
   "cell_type": "code",
   "execution_count": null,
   "id": "c413f93c",
   "metadata": {},
   "outputs": [],
   "source": [
    "#1. WAP to remove to find duplicates elements in list"
   ]
  },
  {
   "cell_type": "code",
   "execution_count": 6,
   "id": "71a0695c",
   "metadata": {},
   "outputs": [
    {
     "name": "stdout",
     "output_type": "stream",
     "text": [
      "List: [1, 3, 7, 1, 2, 7, 5, 3, 8, 1]\n",
      "Duplicate Elements: [1, 7, 3, 1]\n"
     ]
    }
   ],
   "source": [
    "lst = [1, 3, 7, 1, 2, 7, 5, 3, 8, 1]\n",
    "print('List:', lst)\n",
    "seen = set()\n",
    "duplicate_item = [x for x in lst if x in seen or (seen.add(x) or False)]\n",
    "print('Duplicate Elements:', duplicate_item)"
   ]
  },
  {
   "cell_type": "code",
   "execution_count": null,
   "id": "c62fbeff",
   "metadata": {},
   "outputs": [],
   "source": [
    "#2. WAP to sort the given list"
   ]
  },
  {
   "cell_type": "code",
   "execution_count": 8,
   "id": "33eebf17",
   "metadata": {},
   "outputs": [
    {
     "name": "stdout",
     "output_type": "stream",
     "text": [
      "['apple', 'banana', 'cherry', 'orange', 'watermelon']\n"
     ]
    }
   ],
   "source": [
    "lst = ['cherry','watermelon','orange','apple','banana']\n",
    "lst.sort()\n",
    "print(lst)"
   ]
  },
  {
   "cell_type": "code",
   "execution_count": null,
   "id": "da5f450e",
   "metadata": {},
   "outputs": [],
   "source": [
    "#3. WAP to create a list such that\n",
    "#new list contains alternate even and odd from given list"
   ]
  },
  {
   "cell_type": "code",
   "execution_count": 12,
   "id": "48a2c1c9",
   "metadata": {},
   "outputs": [
    {
     "name": "stdout",
     "output_type": "stream",
     "text": [
      "list1:     [11, 22, 33, 44, 55]\n",
      "listEven:  [22, 44]\n",
      "listOdd:   [11, 33, 55]\n"
     ]
    }
   ],
   "source": [
    "list1 = [11, 22, 33, 44, 55]\n",
    "listOdd = []\n",
    "listEven = []\n",
    "for num in list1:\n",
    "    if num%2 == 0:\n",
    "        listEven.append(num)\n",
    "    else:\n",
    "        listOdd.append(num) \n",
    "print (\"list1:    \", list1) \n",
    "print (\"listEven: \", listEven)\n",
    "print (\"listOdd:  \", listOdd)"
   ]
  },
  {
   "cell_type": "code",
   "execution_count": null,
   "id": "a4b33f95",
   "metadata": {},
   "outputs": [],
   "source": [
    "#4. Write a Python program to get the largest number from a list."
   ]
  },
  {
   "cell_type": "code",
   "execution_count": 13,
   "id": "bd0fd4a8",
   "metadata": {},
   "outputs": [
    {
     "name": "stdout",
     "output_type": "stream",
     "text": [
      "Largest element is: 99\n"
     ]
    }
   ],
   "source": [
    "list1 = [10, 20, 4, 45, 99]\n",
    "print(\"Largest element is:\", max(list1))"
   ]
  },
  {
   "cell_type": "code",
   "execution_count": null,
   "id": "c577e475",
   "metadata": {},
   "outputs": [],
   "source": [
    "#5. Write a Python program to count the number of strings where the string length is 2 or more \n",
    "#and the first and last character are same from a given list of strings."
   ]
  },
  {
   "cell_type": "code",
   "execution_count": 16,
   "id": "72f0b4dc",
   "metadata": {},
   "outputs": [
    {
     "name": "stdout",
     "output_type": "stream",
     "text": [
      "4\n"
     ]
    }
   ],
   "source": [
    "def compare(a):\n",
    "    ctr = 0\n",
    "    for i in a:\n",
    "        if len(i) > 2 and i[0] == i[-1]:\n",
    "            ctr+= 1\n",
    "    return ctr\n",
    "\n",
    "a = ['abc', 'xyz', 'aba', '1221', 'aaa', 'asdasdsada']\n",
    "for i in a:\n",
    "    z = compare(a)\n",
    "\n",
    "print(z)"
   ]
  },
  {
   "cell_type": "code",
   "execution_count": 17,
   "id": "166093a3",
   "metadata": {},
   "outputs": [],
   "source": [
    "#6. Write a Python program to remove duplicates from a list."
   ]
  },
  {
   "cell_type": "code",
   "execution_count": 1,
   "id": "b8b770be",
   "metadata": {},
   "outputs": [
    {
     "name": "stdout",
     "output_type": "stream",
     "text": [
      "[2, 4, 5, 10, 20]\n"
     ]
    }
   ],
   "source": [
    "duplicate = [2, 4, 10, 20, 5, 2, 20, 4]\n",
    "print(list(set(duplicate)))"
   ]
  },
  {
   "cell_type": "code",
   "execution_count": null,
   "id": "a6f378a4",
   "metadata": {},
   "outputs": [],
   "source": [
    "#7. Write a Python program to find the list of words that are longer than given words"
   ]
  },
  {
   "cell_type": "code",
   "execution_count": 1,
   "id": "837a11f5",
   "metadata": {},
   "outputs": [
    {
     "name": "stdout",
     "output_type": "stream",
     "text": [
      "enter strings : The quick brown fox jumps over the lazy dog\n",
      "enter value of n 4\n",
      "list of words :  ['quick', 'brown', 'jumps']\n"
     ]
    }
   ],
   "source": [
    "str=input(\"enter strings : \")\n",
    "a=str.split(\" \")\n",
    "b=[]\n",
    "n=int(input(\"enter value of n \"))\n",
    "for i in a:\n",
    "    if (len(i)> n):\n",
    "        b.append(i)\n",
    "print(\"list of words : \",b)"
   ]
  },
  {
   "cell_type": "code",
   "execution_count": null,
   "id": "9cdbed0d",
   "metadata": {},
   "outputs": [],
   "source": [
    "#8. Write a Python function that takes two lists and returns True if they have at least one \n",
    "#common member.\n"
   ]
  },
  {
   "cell_type": "code",
   "execution_count": 8,
   "id": "ecd4fbfb",
   "metadata": {},
   "outputs": [
    {
     "name": "stdout",
     "output_type": "stream",
     "text": [
      "True\n",
      "False\n"
     ]
    }
   ],
   "source": [
    "def common_member(a, b):\n",
    "    a_set = set(a)\n",
    "    b_set = set(b)\n",
    "    if (a_set & b_set):\n",
    "        return True \n",
    "    else:\n",
    "        return False\n",
    "          \n",
    "  \n",
    "a = [1, 2, 3, 4, 5]\n",
    "b = [5, 6, 7, 8, 9]\n",
    "print(common_member(a, b))\n",
    "  \n",
    "a =[1, 2, 3, 4, 5]\n",
    "b =[6, 7, 8, 9]\n",
    "print(common_member(a, b))"
   ]
  },
  {
   "cell_type": "code",
   "execution_count": null,
   "id": "8dcbccd5",
   "metadata": {},
   "outputs": [],
   "source": [
    "#9. Write a Python program to print a specified list after removing the 0th, 4th and 5th \n",
    "#elements. "
   ]
  },
  {
   "cell_type": "code",
   "execution_count": 15,
   "id": "9ea1c1c6",
   "metadata": {},
   "outputs": [
    {
     "name": "stdout",
     "output_type": "stream",
     "text": [
      "10 20 40 50\n"
     ]
    }
   ],
   "source": [
    "def remove(list1, pos):\n",
    "  # pop the element at index = pos\n",
    "    list1.pop(pos) \n",
    "    print(*list1)\n",
    "list1 = [10, 20, 30, 40, 50]\n",
    "pos = 2\n",
    "remove(list1, pos)         "
   ]
  },
  {
   "cell_type": "code",
   "execution_count": null,
   "id": "53f38029",
   "metadata": {},
   "outputs": [],
   "source": [
    "#10. Sample List : ['Red', 'Green', 'White', 'Black', 'Pink', 'Yellow']\n",
    "#11. Expected Output : ['Green', 'White', 'Black']"
   ]
  },
  {
   "cell_type": "code",
   "execution_count": 16,
   "id": "ba63381f",
   "metadata": {},
   "outputs": [
    {
     "name": "stdout",
     "output_type": "stream",
     "text": [
      "['Green', 'White', 'Black']\n"
     ]
    }
   ],
   "source": [
    "list1 = ['Red', 'Green', 'White', 'Black', 'Pink', 'Yellow']\n",
    "print(list1[1:4])"
   ]
  },
  {
   "cell_type": "code",
   "execution_count": null,
   "id": "9b24f214",
   "metadata": {},
   "outputs": [],
   "source": [
    "#12. Write a Python program to print the numbers of a specified list after removing even \n",
    "#numbers from it"
   ]
  },
  {
   "cell_type": "code",
   "execution_count": 18,
   "id": "6fd5c867",
   "metadata": {},
   "outputs": [
    {
     "name": "stdout",
     "output_type": "stream",
     "text": [
      "[7, 25, 27]\n"
     ]
    }
   ],
   "source": [
    "num = [7,16, 120, 25, 44, 20, 27]\n",
    "num = [x for x in num if x%2!=0]\n",
    "print(num)"
   ]
  },
  {
   "cell_type": "code",
   "execution_count": null,
   "id": "3755a96a",
   "metadata": {},
   "outputs": [],
   "source": []
  }
 ],
 "metadata": {
  "kernelspec": {
   "display_name": "Python 3 (ipykernel)",
   "language": "python",
   "name": "python3"
  },
  "language_info": {
   "codemirror_mode": {
    "name": "ipython",
    "version": 3
   },
   "file_extension": ".py",
   "mimetype": "text/x-python",
   "name": "python",
   "nbconvert_exporter": "python",
   "pygments_lexer": "ipython3",
   "version": "3.9.7"
  }
 },
 "nbformat": 4,
 "nbformat_minor": 5
}
