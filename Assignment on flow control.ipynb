{
 "cells": [
  {
   "cell_type": "code",
   "execution_count": null,
   "id": "547d2159",
   "metadata": {},
   "outputs": [],
   "source": [
    "#1. WAP to print even numbers from 121 to 229 using for loop."
   ]
  },
  {
   "cell_type": "code",
   "execution_count": 5,
   "id": "281dcf57",
   "metadata": {},
   "outputs": [
    {
     "name": "stdout",
     "output_type": "stream",
     "text": [
      "Even numbers from 121 to 229 are:\n",
      "122 124 126 128 130 132 134 136 138 140 142 144 146 148 150 152 154 156 158 160 162 164 166 168 170 172 174 176 178 180 182 184 186 188 190 192 194 196 198 200 202 204 206 208 210 212 214 216 218 220 222 224 226 228 "
     ]
    }
   ],
   "source": [
    "print(\"Even numbers from 121 to 229 are:\")\n",
    "for i in range(121,229):\n",
    "    if i % 2==0:\n",
    "        print(i,end=\" \")\n"
   ]
  },
  {
   "cell_type": "code",
   "execution_count": null,
   "id": "0b968340",
   "metadata": {},
   "outputs": [],
   "source": [
    "#2. WAP to print odd numbers from 521 to 229 using while loop."
   ]
  },
  {
   "cell_type": "code",
   "execution_count": 6,
   "id": "bb441d87",
   "metadata": {},
   "outputs": [
    {
     "name": "stdout",
     "output_type": "stream",
     "text": [
      "529 527 525 523 521 519 517 515 513 511 509 507 505 503 501 499 497 495 493 491 489 487 485 483 481 479 477 475 473 471 469 467 465 463 461 459 457 455 453 451 449 447 445 443 441 439 437 435 433 431 429 427 425 423 421 419 417 415 413 411 409 407 405 403 401 399 397 395 393 391 389 387 385 383 381 379 377 375 373 371 369 367 365 363 361 359 357 355 353 351 349 347 345 343 341 339 337 335 333 331 329 327 325 323 321 319 317 315 313 311 309 307 305 303 301 299 297 295 293 291 289 287 285 283 281 279 277 275 273 271 269 267 265 263 261 259 257 255 253 251 249 247 245 243 241 239 237 235 233 231 229 "
     ]
    }
   ],
   "source": [
    "i = 529\n",
    "while i >= 229:\n",
    "    print(i,end= \" \")\n",
    "    i = i-2"
   ]
  },
  {
   "cell_type": "code",
   "execution_count": null,
   "id": "c4f163ab",
   "metadata": {},
   "outputs": [],
   "source": [
    "#3. WAP to show the use of break statement ( in for loop)"
   ]
  },
  {
   "cell_type": "code",
   "execution_count": 10,
   "id": "2f76b10d",
   "metadata": {},
   "outputs": [
    {
     "name": "stdout",
     "output_type": "stream",
     "text": [
      "1\n",
      "2\n",
      "3\n",
      "4\n"
     ]
    }
   ],
   "source": [
    "for num in range(1,11):\n",
    "    if num % 5 == 0:\n",
    "        break\n",
    "    print(num)"
   ]
  },
  {
   "cell_type": "code",
   "execution_count": null,
   "id": "c9e62bf3",
   "metadata": {},
   "outputs": [],
   "source": [
    "#4. WAP to find GCD and LCM of given number"
   ]
  },
  {
   "cell_type": "code",
   "execution_count": 6,
   "id": "254adf78",
   "metadata": {},
   "outputs": [
    {
     "name": "stdout",
     "output_type": "stream",
     "text": [
      "Enter value a:8\n",
      "Enter value b:16\n",
      "Greatest common divisor is: 8\n",
      "Least common multiple is: 16\n"
     ]
    }
   ],
   "source": [
    "a = int(input(\"Enter value a:\"))#8\n",
    "b = int(input(\"Enter value b:\"))#16\n",
    "\n",
    "#to find gcd:\n",
    "gcd = 1\n",
    "for i in range (1,a+1):\n",
    "    if a % i == 0 and b % i == 0:\n",
    "        gcd = i\n",
    "print(\"Greatest common divisor is:\",gcd)\n",
    "\n",
    "#to find lcm:\n",
    "lcm = a * b // gcd\n",
    "print(\"Least common multiple is:\",lcm)"
   ]
  },
  {
   "cell_type": "code",
   "execution_count": null,
   "id": "7676a66f",
   "metadata": {},
   "outputs": [],
   "source": [
    "#5. Write a Python program to print all alphabets from a to z using for loop"
   ]
  },
  {
   "cell_type": "code",
   "execution_count": 14,
   "id": "487b9023",
   "metadata": {},
   "outputs": [
    {
     "name": "stdout",
     "output_type": "stream",
     "text": [
      "a b c d e f g h i j k l m n o p q r s t u v w x y z "
     ]
    }
   ],
   "source": [
    "#ascii table: ascii of a= 97 and ascii of z = 122, so need to take 123 \n",
    "\n",
    "for i in range (97,123):\n",
    "    print (chr(i),end = \" \")"
   ]
  },
  {
   "cell_type": "code",
   "execution_count": null,
   "id": "1f7e98ba",
   "metadata": {},
   "outputs": [],
   "source": [
    "#6. Write a Python program to find sum of all even numbers between 1 to n. "
   ]
  },
  {
   "cell_type": "code",
   "execution_count": 20,
   "id": "2014ba18",
   "metadata": {},
   "outputs": [
    {
     "name": "stdout",
     "output_type": "stream",
     "text": [
      "Enter the number:101\n",
      "Sum of all even numbers between 1 to 100 is: 2550\n"
     ]
    }
   ],
   "source": [
    "n = int(input(\"Enter the number:\"))\n",
    "sum = 0\n",
    "for i in range (1,n):\n",
    "    if i % 2 == 0:\n",
    "        sum = sum + i\n",
    "print(\"Sum of all even numbers between 1 to\",n-1,\"is:\",sum)"
   ]
  },
  {
   "cell_type": "code",
   "execution_count": null,
   "id": "1aed3ed7",
   "metadata": {},
   "outputs": [],
   "source": [
    "#7. Write a Python program to find sum of all odd numbers between 1 to n."
   ]
  },
  {
   "cell_type": "code",
   "execution_count": 26,
   "id": "375038d0",
   "metadata": {},
   "outputs": [
    {
     "name": "stdout",
     "output_type": "stream",
     "text": [
      "Enter the number:101\n",
      "Sum of all odd numbers between 1 to 100 is: 2500\n"
     ]
    }
   ],
   "source": [
    "n = int(input(\"Enter the number:\"))\n",
    "sum = 0\n",
    "for i in range (1,n):\n",
    "    if i % 2 != 0:\n",
    "        sum = sum + i\n",
    "print(\"Sum of all odd numbers between 1 to\",n-1,\"is:\",sum)"
   ]
  },
  {
   "cell_type": "code",
   "execution_count": null,
   "id": "f98333f5",
   "metadata": {},
   "outputs": [],
   "source": [
    "#8. Write a Python program to count number of digits in any number."
   ]
  },
  {
   "cell_type": "code",
   "execution_count": 35,
   "id": "612e1986",
   "metadata": {},
   "outputs": [
    {
     "name": "stdout",
     "output_type": "stream",
     "text": [
      "Enter the number:123456\n",
      "The number of digits in the number are: 6\n"
     ]
    }
   ],
   "source": [
    "n = int(input(\"Enter the number:\"))\n",
    "count = 0\n",
    "while (n > 0):\n",
    "    count = count + 1\n",
    "    n = n // 10\n",
    "print(\"The number of digits in the number are:\",count)"
   ]
  },
  {
   "cell_type": "code",
   "execution_count": null,
   "id": "2a617766",
   "metadata": {},
   "outputs": [],
   "source": [
    "#9. Write a Python program to calculate product of digits of any number."
   ]
  },
  {
   "cell_type": "code",
   "execution_count": 39,
   "id": "d77d4782",
   "metadata": {},
   "outputs": [
    {
     "name": "stdout",
     "output_type": "stream",
     "text": [
      "Enter the number:4513\n",
      "Product of digits is : 60\n"
     ]
    }
   ],
   "source": [
    "n = int(input(\"Enter the number:\"))\n",
    "prod = 1\n",
    "while (n > 0):\n",
    "    prod = prod * (n % 10) #3,15,60\n",
    "    n = n // 10\n",
    "print(\"Product of digits is :\",prod)"
   ]
  },
  {
   "cell_type": "code",
   "execution_count": null,
   "id": "28897e2a",
   "metadata": {},
   "outputs": [],
   "source": [
    "#10. Write a Python program to find frequency of each digit in a given integer."
   ]
  },
  {
   "cell_type": "code",
   "execution_count": 40,
   "id": "bffabf9f",
   "metadata": {},
   "outputs": [
    {
     "name": "stdout",
     "output_type": "stream",
     "text": [
      "Enter the number:1234123\n",
      "Frequency of digit is :\n",
      "1 \t 2\n",
      "2 \t 2\n",
      "3 \t 2\n",
      "4 \t 1\n"
     ]
    }
   ],
   "source": [
    "num = int(input(\"Enter the number:\"))\n",
    "print(\"Frequency of digit is :\")\n",
    "for i in range(0,10):\n",
    "    count = 0\n",
    "    temp = num\n",
    "    while temp > 0:\n",
    "        digit = temp % 10\n",
    "        if digit == i:\n",
    "            count = count + 1\n",
    "        temp = temp // 10\n",
    "    if count > 0:\n",
    "        print(i,\"\\t\",count)"
   ]
  },
  {
   "cell_type": "code",
   "execution_count": null,
   "id": "7e62bf95",
   "metadata": {},
   "outputs": [],
   "source": [
    "#11. Find all prime number between 400 to 300"
   ]
  },
  {
   "cell_type": "code",
   "execution_count": 18,
   "id": "02b58623",
   "metadata": {},
   "outputs": [
    {
     "name": "stdout",
     "output_type": "stream",
     "text": [
      "Prime numbers between 300 to 400 are:\n",
      "307 311 313 317 331 337 347 349 353 359 367 373 379 383 389 397 "
     ]
    }
   ],
   "source": [
    "print(\"Prime numbers between 300 to 400 are:\")\n",
    "flag = True\n",
    "for num in range(300,401):\n",
    "    flag = True\n",
    "    #all prime numbers are greater than 1\n",
    "    if num > 1:\n",
    "        for i in range(2,num):\n",
    "            if (num % i) == 0:\n",
    "                flag = False\n",
    "                break\n",
    "        if flag == True:\n",
    "            print(num, end=\" \")"
   ]
  },
  {
   "cell_type": "code",
   "execution_count": null,
   "id": "f06e5f6e",
   "metadata": {},
   "outputs": [],
   "source": [
    "#12. WAP to print table of given number"
   ]
  },
  {
   "cell_type": "code",
   "execution_count": 50,
   "id": "d06f99ba",
   "metadata": {},
   "outputs": [
    {
     "name": "stdout",
     "output_type": "stream",
     "text": [
      "Enter the number:5\n",
      "5 x 1 = 5\n",
      "5 x 2 = 10\n",
      "5 x 3 = 15\n",
      "5 x 4 = 20\n",
      "5 x 5 = 25\n",
      "5 x 6 = 30\n",
      "5 x 7 = 35\n",
      "5 x 8 = 40\n",
      "5 x 9 = 45\n",
      "5 x 10 = 50\n"
     ]
    }
   ],
   "source": [
    "num = int(input(\"Enter the number:\"))\n",
    "for i in range (1,11):\n",
    "    print(num,\"x\",i,\"=\", num*i)"
   ]
  },
  {
   "cell_type": "code",
   "execution_count": null,
   "id": "0d63569f",
   "metadata": {},
   "outputs": [],
   "source": [
    "#13. WAP to print squares from 1 to20"
   ]
  },
  {
   "cell_type": "code",
   "execution_count": 3,
   "id": "2a3871a8",
   "metadata": {},
   "outputs": [
    {
     "name": "stdout",
     "output_type": "stream",
     "text": [
      "1 --> 1\n",
      "2 --> 4\n",
      "3 --> 9\n",
      "4 --> 16\n",
      "5 --> 25\n",
      "6 --> 36\n",
      "7 --> 49\n",
      "8 --> 64\n",
      "9 --> 81\n",
      "10 --> 100\n",
      "11 --> 121\n",
      "12 --> 144\n",
      "13 --> 169\n",
      "14 --> 196\n",
      "15 --> 225\n",
      "16 --> 256\n",
      "17 --> 289\n",
      "18 --> 324\n",
      "19 --> 361\n",
      "20 --> 400\n"
     ]
    }
   ],
   "source": [
    "for i in range (1,21):\n",
    "    print(i,\"-->\",pow(i,2))"
   ]
  },
  {
   "cell_type": "code",
   "execution_count": null,
   "id": "157cd636",
   "metadata": {},
   "outputs": [],
   "source": [
    "#14. WAP to accept base and index from user and calculates power"
   ]
  },
  {
   "cell_type": "code",
   "execution_count": 4,
   "id": "7b3139e7",
   "metadata": {},
   "outputs": [
    {
     "name": "stdout",
     "output_type": "stream",
     "text": [
      "Enter the number:2\n",
      "Enter the number:3\n",
      "Power is: 8\n"
     ]
    }
   ],
   "source": [
    "base = int(input(\"Enter the number:\"))\n",
    "index = int(input(\"Enter the number:\"))\n",
    "for i in range(base,index):\n",
    "    print(\"Power is:\",pow(base,index))"
   ]
  },
  {
   "cell_type": "code",
   "execution_count": null,
   "id": "275e7cbd",
   "metadata": {},
   "outputs": [],
   "source": [
    "#15. 1!+2!+3!.........+n! find sum"
   ]
  },
  {
   "cell_type": "code",
   "execution_count": 10,
   "id": "fd832a4b",
   "metadata": {},
   "outputs": [
    {
     "name": "stdout",
     "output_type": "stream",
     "text": [
      "Enter the number:4\n",
      "Sum of factorial is: 33\n"
     ]
    }
   ],
   "source": [
    "num = int(input(\"Enter the number:\"))\n",
    "sum = 0\n",
    "fact = 1\n",
    "for k in range (1,num+1):\n",
    "    fact = 1\n",
    "    for i in range (1,k+1):\n",
    "        fact = fact * i\n",
    "    sum = sum + fact\n",
    "print(\"Sum of factorial is:\",sum)\n",
    "    \n",
    "    #1!= 1    2!=1*2=2   3!=1*2*3=6    4!=1*2*3*4=24     24+6+2+1=33"
   ]
  },
  {
   "cell_type": "code",
   "execution_count": null,
   "id": "3446ea45",
   "metadata": {},
   "outputs": [],
   "source": [
    "#16. WAP to check given no is Krishnamurthy or not\n",
    "#eg) 153=1!+5!+3!=153"
   ]
  },
  {
   "cell_type": "code",
   "execution_count": 4,
   "id": "6b8f7853",
   "metadata": {},
   "outputs": [
    {
     "name": "stdout",
     "output_type": "stream",
     "text": [
      "Enter the number:235\n",
      "It's not krishnamurthy number\n"
     ]
    }
   ],
   "source": [
    "num = int(input(\"Enter the number:\"))\n",
    "temp = num\n",
    "sum = 0\n",
    "while (temp > 0):\n",
    "    rem = temp % 10\n",
    "    fact = 1\n",
    "    for i in range (1,rem+1):\n",
    "        fact = fact * i\n",
    "    sum = sum + fact\n",
    "    temp = temp // 10\n",
    "if (num == sum):\n",
    "    print(\"It's krishnamurthy number\")\n",
    "else:\n",
    "    print(\"It's not krishnamurthy number\")   "
   ]
  },
  {
   "cell_type": "code",
   "execution_count": null,
   "id": "83724ee0",
   "metadata": {},
   "outputs": [],
   "source": [
    "#17. WAP to check given no is palindrome or not. Original =Reverse\n",
    "#Eg 122"
   ]
  },
  {
   "cell_type": "code",
   "execution_count": 11,
   "id": "d38748f9",
   "metadata": {},
   "outputs": [
    {
     "name": "stdout",
     "output_type": "stream",
     "text": [
      "Enter the number:1221\n",
      "1221 is palindrome\n"
     ]
    }
   ],
   "source": [
    "num = int(input(\"Enter the number:\"))\n",
    "temp = num\n",
    "rev = 0\n",
    "while (temp > 0):\n",
    "    ld = temp % 10\n",
    "    rev  = rev * 10 + ld\n",
    "    temp = temp // 10\n",
    "if (num == rev):\n",
    "    print(num,\"is palindrome\")\n",
    "else:\n",
    "    print(num,\"is not palindrome\")\n",
    "    "
   ]
  },
  {
   "cell_type": "code",
   "execution_count": null,
   "id": "ef85613a",
   "metadata": {},
   "outputs": [],
   "source": [
    "#18. WAP to check given no is automorphic or not\n",
    " #input n=25\n",
    " #output Automorphic\n",
    "#as 25*25=625"
   ]
  },
  {
   "cell_type": "code",
   "execution_count": 26,
   "id": "d101de0f",
   "metadata": {},
   "outputs": [
    {
     "name": "stdout",
     "output_type": "stream",
     "text": [
      "Enter the number:25\n",
      "25 is automorphic number\n"
     ]
    }
   ],
   "source": [
    "num = int(input(\"Enter the number:\"))#25\n",
    "num_of_digits =len(str(num))         #3\n",
    "#print(num_of_digits)\n",
    "\n",
    "square = num ** 2                   #625\n",
    "#print(square)\n",
    "\n",
    "#obtaining the last digits:\n",
    "ld = square % pow(10,num_of_digits) #625 % pow(10,3)  = 625 % 1000 = 0.625\n",
    "\n",
    "if ld == num:\n",
    "    print(num,\"is automorphic number\")\n",
    "else:\n",
    "     print(num,\"is not automorphic number\")\n",
    "        \n",
    "        \n",
    "# automorphic numbers are: 25,76"
   ]
  },
  {
   "cell_type": "code",
   "execution_count": null,
   "id": "71759b59",
   "metadata": {},
   "outputs": [],
   "source": [
    "#19. WAP to find given number is Harshad/Niven number or not\n",
    "# An harshad number is an integer number divisible by sum of its digit \n",
    " #Eg 18 sum=9 and 18 is divisible by 9"
   ]
  },
  {
   "cell_type": "code",
   "execution_count": 6,
   "id": "101aac33",
   "metadata": {},
   "outputs": [
    {
     "name": "stdout",
     "output_type": "stream",
     "text": [
      "Enter the number:33\n",
      "33 is not harshad number\n"
     ]
    }
   ],
   "source": [
    "num = int(input(\"Enter the number:\"))\n",
    "rem = sum =0\n",
    "temp = num\n",
    "while (temp > 0):\n",
    "    rem = temp % 10\n",
    "    sum = sum + rem\n",
    "    temp = temp // 10\n",
    "if (num % sum == 0):\n",
    "    print(num,\"is harshad number\")\n",
    "else:\n",
    "    print(num,\"is not harshad number\")\n",
    "    \n",
    "#Harshad numbers are :18,54,120\n",
    "#18= 1+8 =9      #33= 3+3=6\n",
    "#18//9 =2        #33//6 =5.5\n"
   ]
  },
  {
   "cell_type": "code",
   "execution_count": null,
   "id": "2f16dc7b",
   "metadata": {},
   "outputs": [],
   "source": [
    "#20. Print all palindrome numbers from 100 to 500"
   ]
  },
  {
   "cell_type": "code",
   "execution_count": 15,
   "id": "bdf77486",
   "metadata": {},
   "outputs": [
    {
     "name": "stdout",
     "output_type": "stream",
     "text": [
      "Enter the Minimum Value : 100\n",
      "Enter the Maximum Value : 500\n",
      "Palindrome Numbers between 100 and 500 are : \n",
      "101   111   121   131   141   151   161   171   181   191   202   212   222   232   242   252   262   272   282   292   303   313   323   333   343   353   363   373   383   393   404   414   424   434   444   454   464   474   484   494   "
     ]
    }
   ],
   "source": [
    "minimum = int(input(\"Enter the Minimum Value : \"))\n",
    "maximum = int(input(\"Enter the Maximum Value : \"))\n",
    "\n",
    "print(\"Palindrome Numbers between %d and %d are : \" %(minimum, maximum))\n",
    "for num in range(minimum, maximum + 1):\n",
    "    temp = num\n",
    "    reverse = 0\n",
    "    \n",
    "    while(temp > 0):\n",
    "        Reminder = temp % 10\n",
    "        reverse = (reverse * 10) + Reminder\n",
    "        temp = temp //10\n",
    "\n",
    "    if(num == reverse):\n",
    "        print(\"%d \" %num, end = '  ')"
   ]
  },
  {
   "cell_type": "code",
   "execution_count": null,
   "id": "5758c3f3",
   "metadata": {},
   "outputs": [],
   "source": []
  }
 ],
 "metadata": {
  "kernelspec": {
   "display_name": "Python 3 (ipykernel)",
   "language": "python",
   "name": "python3"
  },
  "language_info": {
   "codemirror_mode": {
    "name": "ipython",
    "version": 3
   },
   "file_extension": ".py",
   "mimetype": "text/x-python",
   "name": "python",
   "nbconvert_exporter": "python",
   "pygments_lexer": "ipython3",
   "version": "3.9.7"
  }
 },
 "nbformat": 4,
 "nbformat_minor": 5
}
