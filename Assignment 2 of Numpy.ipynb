{
 "cells": [
  {
   "cell_type": "code",
   "execution_count": null,
   "id": "a63990e4",
   "metadata": {},
   "outputs": [],
   "source": [
    "#Write a NumPy program to broadcast on different shapes of arrays \n",
    "#where p(3,3) + q(3)."
   ]
  },
  {
   "cell_type": "code",
   "execution_count": 1,
   "id": "c5d14177",
   "metadata": {},
   "outputs": [
    {
     "name": "stdout",
     "output_type": "stream",
     "text": [
      "Original arrays:\n",
      "Array-1\n",
      "[[1 1 1]\n",
      " [2 3 4]\n",
      " [5 6 7]]\n",
      "Array-2\n",
      "[10 11 12]\n",
      "\n",
      "New Array:\n",
      "[[11 12 13]\n",
      " [12 14 16]\n",
      " [15 17 19]]\n"
     ]
    }
   ],
   "source": [
    "import numpy as np    \n",
    "p = np.array([[1, 1, 1],\n",
    "              [2, 3, 4],\n",
    "              [5, 6, 7]]) \n",
    "q= np.array([10, 11, 12]) \n",
    "print(\"Original arrays:\")\n",
    "print(\"Array-1\")\n",
    "print(p)\n",
    "print(\"Array-2\")\n",
    "print(q)\n",
    "print(\"\\nNew Array:\")\n",
    "new_array1 = p + q \n",
    "print(new_array1)"
   ]
  },
  {
   "cell_type": "code",
   "execution_count": null,
   "id": "796973c2",
   "metadata": {},
   "outputs": [],
   "source": [
    "#How to get the second largest value of an array when grouped by another array?"
   ]
  },
  {
   "cell_type": "code",
   "execution_count": 8,
   "id": "b43252aa",
   "metadata": {},
   "outputs": [
    {
     "name": "stdout",
     "output_type": "stream",
     "text": [
      "Original array:  [43 12  1  2  4  5  6]\n",
      "The second largest element of an array : \n",
      "[ 6 12]\n"
     ]
    }
   ],
   "source": [
    "arr = np.array([43,12,1,2,4,5,6])\n",
    "print(\"Original array: \",arr)\n",
    "arr1 = np.sort(arr)\n",
    "no = 3\n",
    "k = 7\n",
    "print(\"The second largest element of an array : \")\n",
    "print(arr1[len(arr)-no:k-1])"
   ]
  },
  {
   "cell_type": "code",
   "execution_count": null,
   "id": "d26d9220",
   "metadata": {},
   "outputs": [],
   "source": [
    "#How to find the position of missing values in numpy array?"
   ]
  },
  {
   "cell_type": "code",
   "execution_count": 11,
   "id": "44f14b16",
   "metadata": {},
   "outputs": [
    {
     "name": "stdout",
     "output_type": "stream",
     "text": [
      "Original array:\n",
      "[[13. 22. nan  1.]\n",
      " [10.  2. 10.  9.]\n",
      " [51. nan 11. nan]]\n",
      "\n",
      "Find the missing data of the array:\n",
      "[[False False  True False]\n",
      " [False False False False]\n",
      " [False  True False  True]]\n"
     ]
    }
   ],
   "source": [
    "nums = np.array([[13, 22, np.nan, 1],\n",
    "              [10, 2, 10, 9],\n",
    "              [51, np.nan, 11, np.nan]])\n",
    "\n",
    "print(\"Original array:\") \n",
    "print(nums)\n",
    "print(\"\\nFind the missing data of the array:\")\n",
    "print(np.isnan(nums))"
   ]
  },
  {
   "cell_type": "code",
   "execution_count": null,
   "id": "3fdb495e",
   "metadata": {},
   "outputs": [],
   "source": [
    "#Write a NumPy program to create a 3x3x3 array with random values. "
   ]
  },
  {
   "cell_type": "code",
   "execution_count": 36,
   "id": "88c6399c",
   "metadata": {},
   "outputs": [
    {
     "name": "stdout",
     "output_type": "stream",
     "text": [
      "[[[0.55772847 0.63878648 0.86627997]\n",
      "  [0.8928272  0.75996712 0.33104028]\n",
      "  [0.06749615 0.07581441 0.91051186]]\n",
      "\n",
      " [[0.40825717 0.92907896 0.48976955]\n",
      "  [0.72660343 0.45024875 0.43037392]\n",
      "  [0.27344993 0.99827641 0.5253978 ]]\n",
      "\n",
      " [[0.97476239 0.21747164 0.91024512]\n",
      "  [0.73954354 0.71598964 0.40809467]\n",
      "  [0.84848385 0.01415884 0.40613426]]]\n"
     ]
    }
   ],
   "source": [
    "x = np.random.random((3,3,3))\n",
    "print(x)"
   ]
  },
  {
   "cell_type": "code",
   "execution_count": null,
   "id": "1fc64838",
   "metadata": {},
   "outputs": [],
   "source": [
    "#Write a NumPy program to get the unique elements of an array."
   ]
  },
  {
   "cell_type": "code",
   "execution_count": 39,
   "id": "f329d3d3",
   "metadata": {},
   "outputs": [
    {
     "name": "stdout",
     "output_type": "stream",
     "text": [
      "Original array:\n",
      "[[1 2]\n",
      " [2 3]]\n",
      "Unique elements of the above array:\n",
      "[1 2 3]\n"
     ]
    }
   ],
   "source": [
    "a = np.array([[1, 2], [2, 3]])\n",
    "print(\"Original array:\")\n",
    "print(a)\n",
    "print(\"Unique elements of the above array:\")\n",
    "print(np.unique(a))"
   ]
  },
  {
   "cell_type": "code",
   "execution_count": null,
   "id": "0583c51e",
   "metadata": {},
   "outputs": [],
   "source": [
    "#Write a NumPy program to get the values and indices of the elements \n",
    "#that are bigger than 10 in a given array"
   ]
  },
  {
   "cell_type": "code",
   "execution_count": 42,
   "id": "6b6c2885",
   "metadata": {},
   "outputs": [
    {
     "name": "stdout",
     "output_type": "stream",
     "text": [
      "Original array: \n",
      "[[ 0 10 50]\n",
      " [40 80 60]]\n",
      "\n",
      "Values bigger than 10 = [50 40 80 60]\n",
      "\n",
      "Their indices are :  (array([0, 1, 1, 1], dtype=int64), array([2, 0, 1, 2], dtype=int64))\n"
     ]
    }
   ],
   "source": [
    "b = np.array([[0, 10, 50], [40, 80, 60]])\n",
    "print(\"Original array: \")\n",
    "print(b)\n",
    "print(\"\\nValues bigger than 10 =\", b[b>10])\n",
    "print(\"\\nTheir indices are : \", np.nonzero(b > 10))"
   ]
  },
  {
   "cell_type": "code",
   "execution_count": null,
   "id": "c15f60bc",
   "metadata": {},
   "outputs": [],
   "source": [
    "#Write a NumPy program to get the powers of an array values element-wise."
   ]
  },
  {
   "cell_type": "code",
   "execution_count": 45,
   "id": "cd8a4f2a",
   "metadata": {},
   "outputs": [
    {
     "name": "stdout",
     "output_type": "stream",
     "text": [
      "Original array\n",
      "[ 0  1  2  3  4  5  6  7  8  9 10]\n",
      "First array elements raised to powers from second array, element-wise:\n",
      "[  0   1   4   9  16  25  36  49  64  81 100]\n"
     ]
    }
   ],
   "source": [
    "x = np.arange(11)\n",
    "print(\"Original array\")\n",
    "print(x)\n",
    "print(\"First array elements raised to powers from second array, element-wise:\")\n",
    "print(np.power(x, 2))"
   ]
  },
  {
   "cell_type": "code",
   "execution_count": null,
   "id": "f2b146c5",
   "metadata": {},
   "outputs": [],
   "source": [
    "# Write a NumPy program to remove the negative values in a NumPy array with 0."
   ]
  },
  {
   "cell_type": "code",
   "execution_count": 62,
   "id": "b7020c0d",
   "metadata": {},
   "outputs": [
    {
     "name": "stdout",
     "output_type": "stream",
     "text": [
      "Original array :  [ 1  2 -3  3  4 -5 -6  5 -7 -8  6  7 -9  8]\n",
      "New resulting array:  [1 2 0 3 4 0 0 5 0 0 6 7 0 8]\n"
     ]
    }
   ],
   "source": [
    "arr1 = np.array([1, 2, -3, 3, 4, -5, -6, 5, -7, -8, 6, 7, -9, 8])\n",
    "print(\"Original array : \",arr1)\n",
    "  \n",
    "# code to replace all negative value with 0\n",
    "result = np.where(arr1<0, 0,arr1)\n",
    "print(\"New resulting array: \", result)"
   ]
  },
  {
   "cell_type": "code",
   "execution_count": null,
   "id": "b27bcf9b",
   "metadata": {},
   "outputs": [],
   "source": [
    "# Write a NumPy program to calculate the absolute value element-wise"
   ]
  },
  {
   "cell_type": "code",
   "execution_count": 49,
   "id": "e762d656",
   "metadata": {},
   "outputs": [
    {
     "name": "stdout",
     "output_type": "stream",
     "text": [
      "Given array : [ 1 -2  3 -4  5 -6]\n",
      "\n",
      "Absolute array : [1 2 3 4 5 6]\n"
     ]
    }
   ],
   "source": [
    "arr = np.array([1, -2, 3, -4, 5, -6])\n",
    "print(\"Given array :\",arr)\n",
    "result = np.absolute(arr)\n",
    "print(\"\\nAbsolute array :\",result)"
   ]
  },
  {
   "cell_type": "code",
   "execution_count": null,
   "id": "99543444",
   "metadata": {},
   "outputs": [],
   "source": [
    " Write a NumPy program to replace odd number in 2d array by its square . "
   ]
  },
  {
   "cell_type": "code",
   "execution_count": 59,
   "id": "38048245",
   "metadata": {},
   "outputs": [
    {
     "name": "stdout",
     "output_type": "stream",
     "text": [
      "Original array : \n",
      " [[1 2 3 4]\n",
      " [5 6 7 8]]\n",
      "By replacing odd number in 2d array by its square : \n",
      " [ 1  9 25 49]\n"
     ]
    }
   ],
   "source": [
    "          #  O  E  O  E    O  E  O  E  \n",
    "x=np.array([[1, 2, 3, 4], [5, 6, 7, 8]])\n",
    "print(\"Original array : \\n\",x)\n",
    "ans = (x[x%2 != 0])**2\n",
    "print (\"By replacing odd number in 2d array by its square : \\n\",ans)"
   ]
  },
  {
   "cell_type": "code",
   "execution_count": null,
   "id": "9bffc6a1",
   "metadata": {},
   "outputs": [],
   "source": [
    "#Write a NumPy program to create random vector of size 15 and \n",
    "#replace the maximum value by -1."
   ]
  },
  {
   "cell_type": "code",
   "execution_count": 61,
   "id": "764ffd58",
   "metadata": {},
   "outputs": [
    {
     "name": "stdout",
     "output_type": "stream",
     "text": [
      "Original array :\n",
      "[0.51385714 0.29646011 0.04056518 0.39019845 0.01225215 0.60915952\n",
      " 0.75654511 0.99410451 0.63922964 0.61835142 0.14503247 0.40734239\n",
      " 0.0243969  0.5316788  0.6285475 ]\n",
      "\n",
      "Maximum value replaced by -1:\n",
      "[ 0.51385714  0.29646011  0.04056518  0.39019845  0.01225215  0.60915952\n",
      "  0.75654511 -1.          0.63922964  0.61835142  0.14503247  0.40734239\n",
      "  0.0243969   0.5316788   0.6285475 ]\n"
     ]
    }
   ],
   "source": [
    "a = np.random.random(15)\n",
    "print(\"Original array :\")\n",
    "print(a)\n",
    "a[a.argmax()] = -1\n",
    "print(\"\\nMaximum value replaced by -1:\")\n",
    "print(a)"
   ]
  },
  {
   "cell_type": "code",
   "execution_count": null,
   "id": "1dc47b85",
   "metadata": {},
   "outputs": [],
   "source": []
  },
  {
   "cell_type": "code",
   "execution_count": null,
   "id": "de98b787",
   "metadata": {},
   "outputs": [],
   "source": []
  }
 ],
 "metadata": {
  "kernelspec": {
   "display_name": "Python 3 (ipykernel)",
   "language": "python",
   "name": "python3"
  },
  "language_info": {
   "codemirror_mode": {
    "name": "ipython",
    "version": 3
   },
   "file_extension": ".py",
   "mimetype": "text/x-python",
   "name": "python",
   "nbconvert_exporter": "python",
   "pygments_lexer": "ipython3",
   "version": "3.9.7"
  }
 },
 "nbformat": 4,
 "nbformat_minor": 5
}
