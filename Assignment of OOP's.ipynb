{
 "cells": [
  {
   "cell_type": "code",
   "execution_count": null,
   "id": "c2a5e1f3",
   "metadata": {},
   "outputs": [],
   "source": [
    "#1.\tDefine a class Teacher described as below:-\n",
    "Instance Variables:\n",
    "   Name, Address, Phone, Subject Specialization, Monthly_Salary, Income Tax.\n",
    "Instance methods   :    \n",
    "•\tWrite constructor\n",
    "•\tTo accept the details of a teacher including the monthlysalary.\n",
    "•\tTo display the details of the teacher.\n",
    "•\tTo compute the annual Income Tax as 5% of the annual salary above Rs.1,75,000/-.\n"
   ]
  },
  {
   "cell_type": "code",
   "execution_count": 6,
   "id": "65a22197",
   "metadata": {},
   "outputs": [
    {
     "name": "stdout",
     "output_type": "stream",
     "text": [
      "{'name': 'Dhanshri', 'address': 'Malpani', 'phone': 78456, 'subject': 'BDA', 'spec': 'ENTC Engineering', 'm_sal': 500000, 'in_tax': 10000}\n",
      "__________\n",
      "name of teacher: shreya\n",
      "address of teacher: pune\n",
      "phone of teacher: 789456\n",
      "subject of teacher: python\n",
      "specialization of teacher: cse\n",
      "montly salar: 30000\n",
      "income tax: 2000\n",
      "_____________\n",
      "annual income of  shreya  is  360000\n",
      "total tax: 18000.0\n"
     ]
    }
   ],
   "source": [
    "class Teacher:\n",
    "    def __init__(self):\n",
    "        self.name='Dhanshri'\n",
    "        self.address='Malpani'\n",
    "        self.phone=78456\n",
    "        self.subject='BDA'\n",
    "        self.spec='ENTC Engineering'\n",
    "        self.m_sal=500000\n",
    "        self.in_tax=10000\n",
    "    def accept(self,n,a,p,s,sp,m,i):\n",
    "        self.name=n\n",
    "        self.address=a\n",
    "        self.phone=p\n",
    "        self.subject=s\n",
    "        self.spec=sp\n",
    "        self.m_sal=m\n",
    "        self.in_tax=i\n",
    "    def display(self):\n",
    "        print('name of teacher:',self.name)\n",
    "        print('address of teacher:',self.address)\n",
    "        print('phone of teacher:',self.phone)\n",
    "        print('subject of teacher:',self.subject)\n",
    "        print('specialization of teacher:',self.spec)\n",
    "        print('montly salar:',self.m_sal)\n",
    "        print('income tax:',self.in_tax)\n",
    "    def __str__(self):\n",
    "        return str(self.__dict__)\n",
    "    def computetax(self):\n",
    "        anual_income=self.m_sal*12\n",
    "        print('annual income of ',self.name,' is ',anual_income)\n",
    "        if(anual_income>175000):\n",
    "            total_tax=anual_income*0.05\n",
    "            print('total tax:',total_tax)\n",
    "        else:\n",
    "            print('tax is not applicable for teacher whose sal is is less than 1,75000')\n",
    "   \n",
    "\n",
    "t=Teacher()\n",
    "print(t)\n",
    "print('__________')\n",
    "t.accept('shreya','pune',789456,'python','cse',30000,2000)\n",
    "t.display()\n",
    "print('_____________')\n",
    "t.computetax()"
   ]
  },
  {
   "cell_type": "code",
   "execution_count": null,
   "id": "c5c7022c",
   "metadata": {},
   "outputs": [],
   "source": [
    "#2 2.\tDefine a class ‘FoodWorld’ having the following description –\n",
    "Instance Variables:\n",
    "vegName : Name of the vegetable bought (string)\n",
    "vegQty :    Quantity of vegetable bought (int)\n",
    "vegPrice :  Price per unit of the vegetable (int)\n",
    "bill : Total bill\n"
   ]
  },
  {
   "cell_type": "code",
   "execution_count": 8,
   "id": "547682c7",
   "metadata": {},
   "outputs": [
    {
     "name": "stdout",
     "output_type": "stream",
     "text": [
      "veg dish: Rice\n",
      "quantity: 2\n",
      "price: 150\n",
      "total_bill: 300\n",
      "______________\n",
      "veg dish: Pizza\n",
      "quantity: 3\n",
      "price: 300\n",
      "total_bill: 900\n"
     ]
    }
   ],
   "source": [
    "class FoodWorld:\n",
    "    def __init__(self,veg,qty,price):\n",
    "        self.veg=veg\n",
    "        self.qty=qty\n",
    "        self.price=price\n",
    "    def display(self):\n",
    "        print('veg dish:',self.veg)\n",
    "        print('quantity:',self.qty)\n",
    "        print('price:',self.price)\n",
    "    def calcBill(self):\n",
    "        total_bill=(self.qty*self.price)\n",
    "        print('total_bill:',total_bill)\n",
    "v=FoodWorld('Rice',2,150)\n",
    "v.display()\n",
    "v.calcBill()\n",
    "print('______________')\n",
    "v1=FoodWorld('Pizza',3,300)\n",
    "v1.display()\n",
    "v1.calcBill()"
   ]
  },
  {
   "cell_type": "code",
   "execution_count": null,
   "id": "eab8d842",
   "metadata": {},
   "outputs": [],
   "source": []
  }
 ],
 "metadata": {
  "kernelspec": {
   "display_name": "Python 3 (ipykernel)",
   "language": "python",
   "name": "python3"
  },
  "language_info": {
   "codemirror_mode": {
    "name": "ipython",
    "version": 3
   },
   "file_extension": ".py",
   "mimetype": "text/x-python",
   "name": "python",
   "nbconvert_exporter": "python",
   "pygments_lexer": "ipython3",
   "version": "3.9.7"
  }
 },
 "nbformat": 4,
 "nbformat_minor": 5
}
