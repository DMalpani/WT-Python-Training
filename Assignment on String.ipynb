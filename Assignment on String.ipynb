{
 "cells": [
  {
   "cell_type": "code",
   "execution_count": null,
   "id": "1c5d9b93",
   "metadata": {},
   "outputs": [],
   "source": [
    "#1. WAP program to check whether given string is palindrome"
   ]
  },
  {
   "cell_type": "code",
   "execution_count": 1,
   "id": "0ff6c91c",
   "metadata": {},
   "outputs": [
    {
     "name": "stdout",
     "output_type": "stream",
     "text": [
      "Enter your string:eye\n",
      "eye     :is palindrome\n"
     ]
    }
   ],
   "source": [
    "str = input(\"Enter your string:\")\n",
    "if str == str[::-1]:\n",
    "    print(str,'    :is palindrome')\n",
    "else:\n",
    "    print(str,'    :is not palindrome')"
   ]
  },
  {
   "cell_type": "code",
   "execution_count": null,
   "id": "9a96f356",
   "metadata": {},
   "outputs": [],
   "source": [
    "#2. WAP program to count number of vowels in given string"
   ]
  },
  {
   "cell_type": "code",
   "execution_count": 3,
   "id": "a9bf2d94",
   "metadata": {},
   "outputs": [
    {
     "name": "stdout",
     "output_type": "stream",
     "text": [
      "Enter your string:I am Fond of United States\n",
      "Number of vowels: 9\n"
     ]
    }
   ],
   "source": [
    "s = input(\"Enter your string:\")\n",
    "#s1 = s.casefold()\n",
    "#print(\"String in lower case:\",s1)\n",
    "c = 0\n",
    "for i in s:\n",
    "    if i in \"AaEeIiOoUu\":\n",
    "        c += 1\n",
    "print(\"Number of vowels:\",c)\n"
   ]
  },
  {
   "cell_type": "code",
   "execution_count": null,
   "id": "a5b656f0",
   "metadata": {},
   "outputs": [],
   "source": [
    "#3. WAP to remove all occurences of given char from String"
   ]
  },
  {
   "cell_type": "code",
   "execution_count": 14,
   "id": "e27d1102",
   "metadata": {},
   "outputs": [
    {
     "name": "stdout",
     "output_type": "stream",
     "text": [
      "Enter your string:red ball red rose\n",
      "Enter the character which occurence should be remove:r\n",
      "New String is : ed ball ed ose\n"
     ]
    }
   ],
   "source": [
    "str = input(\"Enter your string:\")\n",
    "nm = input(\"Enter the character which occurence should be remove:\")\n",
    "newstr=str.replace(nm,\"\")\n",
    "print(\"New String is :\",newstr)"
   ]
  },
  {
   "cell_type": "code",
   "execution_count": null,
   "id": "5debb932",
   "metadata": {},
   "outputs": [],
   "source": [
    "#4. WAP to accept 2 string and check whether they are anagram or not eg) MARY ARMY"
   ]
  },
  {
   "cell_type": "code",
   "execution_count": 6,
   "id": "9bfa115a",
   "metadata": {},
   "outputs": [
    {
     "name": "stdout",
     "output_type": "stream",
     "text": [
      "Enter first string:mary\n",
      "Enter second string:army\n",
      "The Strings are anagram\n"
     ]
    }
   ],
   "source": [
    "s1 = input(\"Enter first string:\") #mary\n",
    "s2 = input(\"Enter second string:\")#army\n",
    "if (sorted(s1) == sorted(s2)):      #s1=a,m,r,y   #s2=a,m,r,y\n",
    "    print(\"The Strings are anagram\")\n",
    "else:\n",
    "    print(\"The Strings are not anagram\")\n",
    "    "
   ]
  },
  {
   "cell_type": "code",
   "execution_count": null,
   "id": "e15f8c58",
   "metadata": {},
   "outputs": [],
   "source": [
    "#5. WAP to reverse each word in a sentence Python is fun -->nohtyP si nuf"
   ]
  },
  {
   "cell_type": "code",
   "execution_count": 13,
   "id": "fe03d740",
   "metadata": {},
   "outputs": [
    {
     "name": "stdout",
     "output_type": "stream",
     "text": [
      "Original string is: Python is fun\n",
      "Reverse string is:  nohtyP si nuf\n"
     ]
    }
   ],
   "source": [
    "str = \"Python is fun\"\n",
    "print(\"Original string is:\",str)\n",
    "reverse = \"\"\n",
    "list = str.split()\n",
    "#print(list)\n",
    "for word in list:\n",
    "    word = word[::-1]\n",
    "    reverse = reverse +\" \"+ word + \"\"\n",
    "print(\"Reverse string is:\",reverse)"
   ]
  },
  {
   "cell_type": "code",
   "execution_count": null,
   "id": "90cdffdd",
   "metadata": {},
   "outputs": [],
   "source": [
    "#6. WAP program to find frequency of each character in given String"
   ]
  },
  {
   "cell_type": "code",
   "execution_count": 23,
   "id": "f015478b",
   "metadata": {},
   "outputs": [
    {
     "name": "stdout",
     "output_type": "stream",
     "text": [
      "Enter the string:cherry\n",
      "{'c': 1, 'h': 1, 'e': 1, 'r': 2, 'y': 1}\n"
     ]
    }
   ],
   "source": [
    "s = input(\"Enter the string:\")\n",
    "freq = {}\n",
    "for i in s:\n",
    "    if i in freq:\n",
    "        freq[i] += 1\n",
    "    else:\n",
    "        freq [i] = 1\n",
    "print(freq)"
   ]
  },
  {
   "cell_type": "code",
   "execution_count": null,
   "id": "39273b94",
   "metadata": {},
   "outputs": [],
   "source": [
    "#7. WAP to extract first alphabet from given sentence to form a new word"
   ]
  },
  {
   "cell_type": "code",
   "execution_count": 26,
   "id": "67108ca6",
   "metadata": {},
   "outputs": [
    {
     "name": "stdout",
     "output_type": "stream",
     "text": [
      "Enter the string:time is money\n",
      "tim\n"
     ]
    }
   ],
   "source": [
    "str = input(\"Enter the string:\")\n",
    "nw = \"\"\n",
    "words = str.split()\n",
    "for i in words:\n",
    "    nw = nw + i[0]\n",
    "print(\"\".join(nw))"
   ]
  },
  {
   "cell_type": "code",
   "execution_count": null,
   "id": "25d120c1",
   "metadata": {},
   "outputs": [],
   "source": [
    "#8. Star Pattern Programs"
   ]
  },
  {
   "cell_type": "code",
   "execution_count": 5,
   "id": "dca7f192",
   "metadata": {},
   "outputs": [
    {
     "name": "stdout",
     "output_type": "stream",
     "text": [
      "Enter the number of rows:5\n",
      "*\n",
      "**\n",
      "***\n",
      "****\n",
      "*****\n"
     ]
    }
   ],
   "source": [
    "n = int(input(\"Enter the number of rows:\"))\n",
    "for i in range (1,n+1):\n",
    "    print(\"*\" * i)"
   ]
  },
  {
   "cell_type": "code",
   "execution_count": null,
   "id": "560ca9e8",
   "metadata": {},
   "outputs": [],
   "source": [
    "#9. Star Pattern Programs \n",
    "ABCDE\n",
    "ABCD\n",
    "ABC\n",
    "AB\n",
    "A"
   ]
  },
  {
   "cell_type": "code",
   "execution_count": 3,
   "id": "efa19f10",
   "metadata": {},
   "outputs": [
    {
     "name": "stdout",
     "output_type": "stream",
     "text": [
      "ABCDE\n",
      "ABCD\n",
      "ABC\n",
      "AB\n",
      "A\n"
     ]
    }
   ],
   "source": [
    "#note that Ascii codes of A = 65 and E = 69, so we need to take F = 70\n",
    "for i in range (70,65,-1):\n",
    "    for j in range (65,i):\n",
    "        print(chr(j),end = \"\")\n",
    "    print()"
   ]
  },
  {
   "cell_type": "code",
   "execution_count": null,
   "id": "34371d8c",
   "metadata": {},
   "outputs": [],
   "source": [
    "#10. WAP to replace every character by its next subsequent character."
   ]
  },
  {
   "cell_type": "code",
   "execution_count": 7,
   "id": "1d3ec07c",
   "metadata": {},
   "outputs": [
    {
     "name": "stdout",
     "output_type": "stream",
     "text": [
      "Enter your string:man\n",
      "New string is : nbo\n"
     ]
    }
   ],
   "source": [
    "#str = input(\"Enter your string:\")\n",
    "from string import ascii_letters\n",
    "\n",
    "s = input(\"Enter your string:\")\n",
    "ns=''\n",
    "for c in s:\n",
    "    if c in ascii_letters:\n",
    "        ns=ns+ascii_letters[(ascii_letters.index(c)+1)%len(ascii_letters)]\n",
    "    else:\n",
    "        ns+=c\n",
    "print(\"New string is :\",ns)\n",
    "    "
   ]
  },
  {
   "cell_type": "code",
   "execution_count": null,
   "id": "db43e53f",
   "metadata": {},
   "outputs": [],
   "source": [
    "#11. Write a Python program to count the number of characters (character frequency) in \n",
    "#a string."
   ]
  },
  {
   "cell_type": "code",
   "execution_count": 13,
   "id": "04872ffd",
   "metadata": {},
   "outputs": [
    {
     "name": "stdout",
     "output_type": "stream",
     "text": [
      "Enter your string:dhanshri\n",
      "Total number of characters in given string is : 8\n"
     ]
    }
   ],
   "source": [
    "str = input(\"Enter your string:\")\n",
    "freq = 0\n",
    "for i in str:\n",
    "    freq = freq + 1\n",
    "print(\"Total number of characters in given string is :\",freq)"
   ]
  },
  {
   "cell_type": "code",
   "execution_count": null,
   "id": "40d39796",
   "metadata": {},
   "outputs": [],
   "source": [
    "#12. Write a Python program to remove the characters which have odd index values of a \n",
    "#given string"
   ]
  },
  {
   "cell_type": "code",
   "execution_count": 29,
   "id": "a73596a0",
   "metadata": {},
   "outputs": [
    {
     "name": "stdout",
     "output_type": "stream",
     "text": [
      "Enter your string:python\n",
      "Odd index characters of string are: pto\n"
     ]
    }
   ],
   "source": [
    "str = input(\"Enter your string:\")\n",
    "newstr =\"\"\n",
    "for i in range(len(str)):\n",
    "    if i % 2 == 0:\n",
    "         newstr = newstr + str[i]\n",
    "print(\"Odd index characters of string are:\",newstr)"
   ]
  },
  {
   "cell_type": "code",
   "execution_count": null,
   "id": "a58bca64",
   "metadata": {},
   "outputs": [],
   "source": [
    "#13. Write a Python program to count the occurrences of each word in a given sentence."
   ]
  },
  {
   "cell_type": "code",
   "execution_count": 33,
   "id": "10bbdd95",
   "metadata": {},
   "outputs": [
    {
     "name": "stdout",
     "output_type": "stream",
     "text": [
      "Enter your string:apple orange apple\n",
      "Frequency of apple is: 2\n",
      "Frequency of orange is: 1\n"
     ]
    }
   ],
   "source": [
    "str = input(\"Enter your string:\")\n",
    "str1 = str.split()\n",
    "str2 = []\n",
    "for i in str1:\n",
    "    if i not in str2:\n",
    "        str2.append(i)\n",
    "for i in range (0,len(str2)):\n",
    "    print(\"Frequency of\",str2[i],\"is:\",str1.count(str2[i]))\n"
   ]
  },
  {
   "cell_type": "code",
   "execution_count": null,
   "id": "1c4e2b5c",
   "metadata": {},
   "outputs": [],
   "source": [
    "#14. Write a Python program to swap cases or toggle cases of a given string"
   ]
  },
  {
   "cell_type": "code",
   "execution_count": 35,
   "id": "c6069f9f",
   "metadata": {},
   "outputs": [
    {
     "name": "stdout",
     "output_type": "stream",
     "text": [
      "Enter the string:I am enjoying Learning Python\n",
      "i AM ENJOYING lEARNING pYTHON\n"
     ]
    }
   ],
   "source": [
    "str = input(\"Enter the string:\")\n",
    "newstr = (str.swapcase())\n",
    "print(newstr)"
   ]
  },
  {
   "cell_type": "code",
   "execution_count": null,
   "id": "c03d6b84",
   "metadata": {},
   "outputs": [],
   "source": []
  },
  {
   "cell_type": "code",
   "execution_count": null,
   "id": "4929ee11",
   "metadata": {},
   "outputs": [],
   "source": []
  }
 ],
 "metadata": {
  "kernelspec": {
   "display_name": "Python 3 (ipykernel)",
   "language": "python",
   "name": "python3"
  },
  "language_info": {
   "codemirror_mode": {
    "name": "ipython",
    "version": 3
   },
   "file_extension": ".py",
   "mimetype": "text/x-python",
   "name": "python",
   "nbconvert_exporter": "python",
   "pygments_lexer": "ipython3",
   "version": "3.9.7"
  }
 },
 "nbformat": 4,
 "nbformat_minor": 5
}
