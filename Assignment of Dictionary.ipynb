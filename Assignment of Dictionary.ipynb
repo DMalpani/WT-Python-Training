{
 "cells": [
  {
   "cell_type": "code",
   "execution_count": null,
   "id": "32207d6e",
   "metadata": {},
   "outputs": [],
   "source": [
    "#1. Write a Python program to combine two dictionary adding values for \n",
    "#common keys. Go to the editor\n",
    "#d1 = {'a': 100, 'b': 200, 'c':300}\n",
    "#d2 = {'a': 300, 'b': 200, 'd':400}\n",
    "#Sample output: Counter({'a': 400, 'b': 400, 'd': 400, 'c': 300})"
   ]
  },
  {
   "cell_type": "code",
   "execution_count": 3,
   "id": "c1ef64bc",
   "metadata": {},
   "outputs": [
    {
     "name": "stdout",
     "output_type": "stream",
     "text": [
      "Counter({'a': 400, 'b': 400, 'd': 400, 'c': 300})\n"
     ]
    }
   ],
   "source": [
    "from collections import Counter\n",
    "d1 = {'a': 100, 'b': 200, 'c':300}\n",
    "d2 = {'a': 300, 'b': 200, 'd':400}\n",
    "d = Counter(d1) + Counter(d2)\n",
    "print(d)"
   ]
  },
  {
   "cell_type": "code",
   "execution_count": null,
   "id": "ab47aad8",
   "metadata": {},
   "outputs": [],
   "source": [
    "#2. Write a Python program to print all unique values in a dictionary.\n",
    "#Original List: [{'V': 'S001'}, {'V': 'S002'}, {'VI': 'S001'}, {'VI': 'S005'}, {'VII': \n",
    "#'S005'}, {'V': 'S009'},{'VIII': 'S007'}]\n",
    "#Unique Values: {'S009', 'S002', 'S007', 'S005', 'S001'}"
   ]
  },
  {
   "cell_type": "code",
   "execution_count": 4,
   "id": "a179c73f",
   "metadata": {},
   "outputs": [
    {
     "name": "stdout",
     "output_type": "stream",
     "text": [
      "Original List:  [{'V': 'S001'}, {'V': 'S002'}, {'VI': 'S001'}, {'VI': 'S005'}, {'VII': 'S005'}, {'V': 'S009'}, {'VIII': 'S007'}]\n",
      "\n",
      "Unique Values:  {'S001', 'S002', 'S005', 'S007', 'S009'}\n"
     ]
    }
   ],
   "source": [
    "L = [{\"V\":\"S001\"}, {\"V\": \"S002\"}, {\"VI\": \"S001\"}, {\"VI\": \"S005\"}, {\"VII\":\"S005\"}, {\"V\":\"S009\"},{\"VIII\":\"S007\"}]\n",
    "print(\"Original List: \",L)\n",
    "u_value = set( val for dic in L for val in dic.values())\n",
    "print(\"\\nUnique Values: \",u_value)"
   ]
  },
  {
   "cell_type": "code",
   "execution_count": null,
   "id": "ad4deedd",
   "metadata": {},
   "outputs": [],
   "source": [
    "#3. Write a Python program to create a dictionary from a string.\n",
    "#Track the count of the letters from the string.\n",
    "#Sample string : 'w3resource'\n",
    "#Expected output: {3: 1, 's': 1, 'r': 2, 'u': 1, 'w': 1, 'c': 1, 'e': 2, 'o': 1}\n"
   ]
  },
  {
   "cell_type": "code",
   "execution_count": 5,
   "id": "e2235b84",
   "metadata": {},
   "outputs": [
    {
     "name": "stdout",
     "output_type": "stream",
     "text": [
      "{'w': 1, '3': 1, 'r': 2, 'e': 2, 's': 1, 'o': 1, 'u': 1, 'c': 1}\n"
     ]
    }
   ],
   "source": [
    "from collections import defaultdict, Counter\n",
    "str1 = 'w3resource' \n",
    "my_dict = {}\n",
    "for letter in str1:\n",
    "    my_dict[letter] = my_dict.get(letter, 0) + 1\n",
    "print(my_dict)"
   ]
  },
  {
   "cell_type": "code",
   "execution_count": null,
   "id": "3339d896",
   "metadata": {},
   "outputs": [],
   "source": [
    "#4. Merge following two Python dictionaries into one.\n",
    "#Get the key corresponding to the minimum value from the following \n",
    "#dictionary\n",
    "#sampleDict = { 'Physics': 82, 'Math': 65, 'history': 75}\n",
    "#Expected output: Math"
   ]
  },
  {
   "cell_type": "code",
   "execution_count": 7,
   "id": "4784977d",
   "metadata": {},
   "outputs": [
    {
     "name": "stdout",
     "output_type": "stream",
     "text": [
      "Math\n"
     ]
    }
   ],
   "source": [
    "sampleDict = { 'Physics': 82, 'Math': 65, 'history': 75}\n",
    "print(min(sampleDict,key=sampleDict.get))"
   ]
  },
  {
   "cell_type": "code",
   "execution_count": null,
   "id": "dd6d8331",
   "metadata": {},
   "outputs": [],
   "source": [
    "#5. Combine two dictionary adding values for common keys\n",
    "#Input: dict1 = {'a': 12, 'for': 25, 'c': 9}\n",
    "#dict2 = {'python': 100, 'java': 200, 'for': 300}\n",
    "#Output: {'for': 325, 'python': 100, 'java': 200}"
   ]
  },
  {
   "cell_type": "code",
   "execution_count": 6,
   "id": "b6ee61b1",
   "metadata": {},
   "outputs": [
    {
     "name": "stdout",
     "output_type": "stream",
     "text": [
      "Counter({'for': 325, 'java': 200, 'python': 100, 'a': 12, 'c': 9})\n"
     ]
    }
   ],
   "source": [
    "from collections import Counter\n",
    "dict1 = {'a': 12, 'for': 25, 'c': 9}\n",
    "dict2 = {'python': 100, 'java': 200, 'for': 300}\n",
    "d = Counter(dict1) + Counter(dict2)\n",
    "print(d)"
   ]
  },
  {
   "cell_type": "code",
   "execution_count": null,
   "id": "b6a3fcb6",
   "metadata": {},
   "outputs": [],
   "source": []
  },
  {
   "cell_type": "code",
   "execution_count": null,
   "id": "25c15146",
   "metadata": {},
   "outputs": [],
   "source": []
  },
  {
   "cell_type": "code",
   "execution_count": null,
   "id": "9f2fc514",
   "metadata": {},
   "outputs": [],
   "source": []
  }
 ],
 "metadata": {
  "kernelspec": {
   "display_name": "Python 3 (ipykernel)",
   "language": "python",
   "name": "python3"
  },
  "language_info": {
   "codemirror_mode": {
    "name": "ipython",
    "version": 3
   },
   "file_extension": ".py",
   "mimetype": "text/x-python",
   "name": "python",
   "nbconvert_exporter": "python",
   "pygments_lexer": "ipython3",
   "version": "3.9.7"
  }
 },
 "nbformat": 4,
 "nbformat_minor": 5
}
