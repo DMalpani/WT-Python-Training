{
 "cells": [
  {
   "cell_type": "code",
   "execution_count": null,
   "id": "b6d9685e",
   "metadata": {},
   "outputs": [],
   "source": [
    "#1. Write a Python program to find palindromes in a given list of strings \n",
    "#using Lambda."
   ]
  },
  {
   "cell_type": "code",
   "execution_count": 2,
   "id": "645bbd42",
   "metadata": {},
   "outputs": [
    {
     "name": "stdout",
     "output_type": "stream",
     "text": [
      "Orginal list of strings:\n",
      "['php', 'new', 'Python', 'madam', 'abcd', 'Java', 'zzz', 'eye']\n",
      "\n",
      "List of palindromes:\n",
      "['php', 'madam', 'zzz', 'eye']\n"
     ]
    }
   ],
   "source": [
    "txt = [\"php\", \"new\", \"Python\", \"madam\", \"abcd\", \"Java\", \"zzz\",\"eye\"]\n",
    "print(\"Orginal list of strings:\")\n",
    "print(txt) \n",
    "result = list(filter(lambda x: (x == \"\".join(reversed(x))), txt)) \n",
    "print(\"\\nList of palindromes:\")\n",
    "print(result) "
   ]
  },
  {
   "cell_type": "code",
   "execution_count": null,
   "id": "d65325ab",
   "metadata": {},
   "outputs": [],
   "source": [
    "#2. Write a Python program that removes the positive numbers from a given \n",
    "#list of numbers. Sum the negative numbers"
   ]
  },
  {
   "cell_type": "code",
   "execution_count": 3,
   "id": "0ebeb02c",
   "metadata": {},
   "outputs": [
    {
     "name": "stdout",
     "output_type": "stream",
     "text": [
      "Original numbers in the list:  [2, 4, -6, -9, 11, -12, 14, -5, 17]\n",
      "Positive numbers in the said list:  [2, 4, 11, 14, 17]\n",
      "sum of negative number is: -13\n"
     ]
    }
   ],
   "source": [
    "nums = [2, 4, -6, -9, 11, -12, 14, -5, 17]\n",
    "print(\"Original numbers in the list: \",nums)\n",
    "new_nums = list(filter(lambda x: x >0, nums))\n",
    "print(\"Positive numbers in the said list: \",new_nums)\n",
    "\n",
    "l1=[1,-2,3,-4,6,-7]\n",
    "x=list(filter(lambda x:x<0,l1))\n",
    "print('sum of negative number is:',sum(x))\n"
   ]
  },
  {
   "cell_type": "code",
   "execution_count": null,
   "id": "ab0f0d97",
   "metadata": {},
   "outputs": [],
   "source": [
    "#3. Write a Python program to sort a list of tuples using Lambda.\n",
    "#subject_marks = [('English', 88), ('Science', 90), ('Maths', 97),\n",
    "#('Social sciences', 82)]\n",
    "#output\n",
    "#Sorting the List of Tuples:\n",
    "#[('Social sciences', 82), ('English', 88), ('Science', 90), ('Maths', 97)]"
   ]
  },
  {
   "cell_type": "code",
   "execution_count": 35,
   "id": "6e663ad3",
   "metadata": {},
   "outputs": [
    {
     "name": "stdout",
     "output_type": "stream",
     "text": [
      "Original list of tuples:\n",
      "[('English', 88), ('Science', 90), ('Maths', 97), ('Social sciences', 82)]\n",
      "\n",
      "Sorting the List of Tuples:\n",
      "[('Social sciences', 82), ('English', 88), ('Science', 90), ('Maths', 97)]\n"
     ]
    }
   ],
   "source": [
    "subject_marks = [('English', 88), ('Science', 90), ('Maths', 97), ('Social sciences', 82)]\n",
    "print(\"Original list of tuples:\")\n",
    "print(subject_marks)\n",
    "subject_marks.sort(key = lambda x: x[1])\n",
    "print(\"\\nSorting the List of Tuples:\")\n",
    "print(subject_marks)"
   ]
  },
  {
   "cell_type": "code",
   "execution_count": null,
   "id": "fe7ffda0",
   "metadata": {},
   "outputs": [],
   "source": [
    "#4. Write a Python program to square and cube every alternate number \n",
    "#using list comprehension"
   ]
  },
  {
   "cell_type": "code",
   "execution_count": 38,
   "id": "a403f7de",
   "metadata": {},
   "outputs": [
    {
     "name": "stdout",
     "output_type": "stream",
     "text": [
      "Original list of integers:\n",
      "[1, 2, 3, 4, 5, 6, 7, 8, 9, 10]\n",
      "\n",
      "Square every number of the said list:\n",
      "[1, 4, 9, 16, 25, 36, 49, 64, 81, 100]\n",
      "\n",
      "Cube every number of the said list:\n",
      "[1, 8, 27, 64, 125, 216, 343, 512, 729, 1000]\n"
     ]
    }
   ],
   "source": [
    "nums = [1, 2, 3, 4, 5, 6, 7, 8, 9, 10]\n",
    "print(\"Original list of integers:\")\n",
    "print(nums)\n",
    "print(\"\\nSquare every number of the said list:\")\n",
    "square_nums = list(map(lambda x: x ** 2, nums))\n",
    "print(square_nums)\n",
    "print(\"\\nCube every number of the said list:\")\n",
    "cube_nums = list(map(lambda x: x ** 3, nums))\n",
    "print(cube_nums)"
   ]
  },
  {
   "cell_type": "code",
   "execution_count": null,
   "id": "16c3b7b9",
   "metadata": {},
   "outputs": [],
   "source": [
    "#5. Write a program to find all prime number from given list using filter \n",
    "#function ."
   ]
  },
  {
   "cell_type": "code",
   "execution_count": 40,
   "id": "7e6b470f",
   "metadata": {},
   "outputs": [
    {
     "name": "stdout",
     "output_type": "stream",
     "text": [
      "Prime numbers from given list are :  [3, 5, 7, 9]\n"
     ]
    }
   ],
   "source": [
    "n1=[1,2,3,4,5,6,7,8,9]\n",
    "n=list(filter(lambda x:x%2==1 and x!=1,n1))\n",
    "print(\"Prime numbers from given list are : \",n)"
   ]
  },
  {
   "cell_type": "code",
   "execution_count": null,
   "id": "46e59782",
   "metadata": {},
   "outputs": [],
   "source": [
    "#6. Write a Python logic to multiply all the numbers in a list ( use reduce \n",
    "#function)"
   ]
  },
  {
   "cell_type": "code",
   "execution_count": 42,
   "id": "6fd3fe6d",
   "metadata": {},
   "outputs": [
    {
     "name": "stdout",
     "output_type": "stream",
     "text": [
      "Multiplication of numbers is :  72\n"
     ]
    }
   ],
   "source": [
    "from functools import reduce\n",
    "l6=[3,3,8,1]\n",
    "total=reduce(lambda x,y:x*y,l6)\n",
    "print(\"Multiplication of numbers is : \",total)"
   ]
  },
  {
   "cell_type": "code",
   "execution_count": null,
   "id": "032365db",
   "metadata": {},
   "outputs": [],
   "source": [
    "#8. Write a program to find all armstrong number from given list using filter \n",
    "#function "
   ]
  },
  {
   "cell_type": "code",
   "execution_count": 49,
   "id": "cdb77f79",
   "metadata": {},
   "outputs": [
    {
     "name": "stdout",
     "output_type": "stream",
     "text": [
      "371\n",
      "370\n",
      "153\n"
     ]
    }
   ],
   "source": [
    "def armstrong(a):\n",
    "    sum=0\n",
    "    temp=a\n",
    "    while temp >0:\n",
    "        d=temp%10\n",
    "        sum+=d**3\n",
    "        temp//=10\n",
    "    if(a==sum):\n",
    "        print(sum)\n",
    "    else:\n",
    "        pass\n",
    "l=[121,371,370,153,789]\n",
    "l2=[]\n",
    "l2=list(filter(armstrong,l))\n"
   ]
  },
  {
   "cell_type": "code",
   "execution_count": null,
   "id": "716d02e1",
   "metadata": {},
   "outputs": [],
   "source": []
  }
 ],
 "metadata": {
  "kernelspec": {
   "display_name": "Python 3 (ipykernel)",
   "language": "python",
   "name": "python3"
  },
  "language_info": {
   "codemirror_mode": {
    "name": "ipython",
    "version": 3
   },
   "file_extension": ".py",
   "mimetype": "text/x-python",
   "name": "python",
   "nbconvert_exporter": "python",
   "pygments_lexer": "ipython3",
   "version": "3.9.7"
  }
 },
 "nbformat": 4,
 "nbformat_minor": 5
}
