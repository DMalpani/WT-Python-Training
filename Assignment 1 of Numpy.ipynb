{
 "cells": [
  {
   "cell_type": "code",
   "execution_count": null,
   "id": "501ba241",
   "metadata": {},
   "outputs": [],
   "source": [
    "#Write a NumPy program to test element-wise for NaN of a given array."
   ]
  },
  {
   "cell_type": "code",
   "execution_count": 2,
   "id": "a80ec5d4",
   "metadata": {},
   "outputs": [
    {
     "name": "stdout",
     "output_type": "stream",
     "text": [
      "Original array :  [ 1.  0. nan inf]\n",
      "Test element-wise for NaN :  [False False  True False]\n"
     ]
    }
   ],
   "source": [
    "import numpy as np\n",
    "a = np.array([1, 0, np.nan, np.inf])\n",
    "print(\"Original array : \",a)\n",
    "print(\"Test element-wise for NaN : \",np.isnan(a))"
   ]
  },
  {
   "cell_type": "code",
   "execution_count": null,
   "id": "0f3c73ca",
   "metadata": {},
   "outputs": [],
   "source": [
    "#Write a NumPy program to create an array with values ranging from 12 to 38."
   ]
  },
  {
   "cell_type": "code",
   "execution_count": 6,
   "id": "26ac07f9",
   "metadata": {},
   "outputs": [
    {
     "name": "stdout",
     "output_type": "stream",
     "text": [
      "[12 13 14 15 16 17 18 19 20 21 22 23 24 25 26 27 28 29 30 31 32 33 34 35\n",
      " 36 37]\n"
     ]
    }
   ],
   "source": [
    "x = np.arange(12,38)\n",
    "print(x)"
   ]
  },
  {
   "cell_type": "code",
   "execution_count": null,
   "id": "a3332b9c",
   "metadata": {},
   "outputs": [],
   "source": [
    "#Write a NumPy program to reverse an array (first element becomes last)."
   ]
  },
  {
   "cell_type": "code",
   "execution_count": 10,
   "id": "97c0c205",
   "metadata": {},
   "outputs": [
    {
     "name": "stdout",
     "output_type": "stream",
     "text": [
      "Original array : [10 11 12 13 14 15 16 17 18 19 20]\n",
      "Reverse array :  [20 19 18 17 16 15 14 13 12 11 10]\n"
     ]
    }
   ],
   "source": [
    "x = np.arange(10,21)\n",
    "print(\"Original array :\",x)\n",
    "x = x[::-1]\n",
    "print(\"Reverse array : \",x)"
   ]
  },
  {
   "cell_type": "code",
   "execution_count": null,
   "id": "d439893a",
   "metadata": {},
   "outputs": [],
   "source": [
    "#Write a NumPy program to convert an array to a float type"
   ]
  },
  {
   "cell_type": "code",
   "execution_count": 11,
   "id": "a7a69b41",
   "metadata": {},
   "outputs": [
    {
     "name": "stdout",
     "output_type": "stream",
     "text": [
      "[1. 1. 1. 1.]\n"
     ]
    }
   ],
   "source": [
    "a1 = np.ones(4, dtype=\"float\")\n",
    "print(a1)"
   ]
  },
  {
   "cell_type": "code",
   "execution_count": null,
   "id": "868fac3f",
   "metadata": {},
   "outputs": [],
   "source": [
    "#Write a NumPy program to create a 2d array with 1 on the border and 0 inside."
   ]
  },
  {
   "cell_type": "code",
   "execution_count": 15,
   "id": "8a9987aa",
   "metadata": {},
   "outputs": [
    {
     "name": "stdout",
     "output_type": "stream",
     "text": [
      "Original array : \n",
      "[[1 1 1 1 1]\n",
      " [1 1 1 1 1]\n",
      " [1 1 1 1 1]\n",
      " [1 1 1 1 1]\n",
      " [1 1 1 1 1]]\n",
      "1 on the border and 0 inside in the array : \n",
      "[[1 1 1 1 1]\n",
      " [1 0 0 0 1]\n",
      " [1 0 0 0 1]\n",
      " [1 0 0 0 1]\n",
      " [1 1 1 1 1]]\n"
     ]
    }
   ],
   "source": [
    "x = np.ones((5,5),dtype = 'int')\n",
    "print(\"Original array : \")\n",
    "print(x)\n",
    "print(\"1 on the border and 0 inside in the array : \")\n",
    "x[1:-1,1:-1] = 0\n",
    "print(x)"
   ]
  },
  {
   "cell_type": "code",
   "execution_count": null,
   "id": "ecb2526d",
   "metadata": {},
   "outputs": [],
   "source": [
    "#Write a NumPy program to append values to the end of an array."
   ]
  },
  {
   "cell_type": "code",
   "execution_count": 16,
   "id": "2adbe666",
   "metadata": {},
   "outputs": [
    {
     "name": "stdout",
     "output_type": "stream",
     "text": [
      "Original array : \n",
      "[10, 20, 30]\n",
      "After append values to the end of the array : \n",
      "[10 20 30 40 50 60 70 80 90]\n"
     ]
    }
   ],
   "source": [
    "x = [10, 20, 30]\n",
    "print(\"Original array : \")\n",
    "print(x)\n",
    "x = np.append(x, [[40, 50, 60], [70, 80, 90]])\n",
    "print(\"After append values to the end of the array : \")\n",
    "print(x)"
   ]
  },
  {
   "cell_type": "code",
   "execution_count": null,
   "id": "09969fbc",
   "metadata": {},
   "outputs": [],
   "source": [
    "#Write a NumPy program to test whether each element of a 1-D array is also present in a second array"
   ]
  },
  {
   "cell_type": "code",
   "execution_count": 18,
   "id": "7eb45a86",
   "metadata": {},
   "outputs": [
    {
     "name": "stdout",
     "output_type": "stream",
     "text": [
      "Array1:  [ 0 10 20 40 60]\n",
      "Array2:  [0, 40]\n",
      "Compare each element of array1 and array2 : \n",
      "[ True False False  True False]\n"
     ]
    }
   ],
   "source": [
    "array1 = np.array([0, 10, 20, 40, 60])\n",
    "print(\"Array1: \",array1)\n",
    "array2 = [0, 40]\n",
    "print(\"Array2: \",array2)\n",
    "print(\"Compare each element of array1 and array2 : \")\n",
    "print(np.in1d(array1,array2))"
   ]
  },
  {
   "cell_type": "code",
   "execution_count": null,
   "id": "dcc0674f",
   "metadata": {},
   "outputs": [],
   "source": [
    "#Write a NumPy program to get the unique elements of an array"
   ]
  },
  {
   "cell_type": "code",
   "execution_count": 22,
   "id": "1ec131c4",
   "metadata": {},
   "outputs": [
    {
     "name": "stdout",
     "output_type": "stream",
     "text": [
      "Original array: [10 10 20 20 30 30]\n",
      "Unique elements of 1D array are : [10 20 30]\n",
      "Original array:\n",
      "[[1 1]\n",
      " [2 3]]\n",
      "Unique elements of 2D array are : [1 2 3]\n"
     ]
    }
   ],
   "source": [
    "#finding unique element for 1D array:\n",
    "\n",
    "x = np.array([10, 10, 20, 20, 30, 30])\n",
    "print(\"Original array:\",x)\n",
    "print(\"Unique elements of 1D array are :\",np.unique(x))\n",
    "\n",
    "\n",
    "#finding unique element for 2D array:\n",
    "\n",
    "x = np.array([[1, 1], [2, 3]])\n",
    "print(\"Original array:\")\n",
    "print(x)\n",
    "print(\"Unique elements of 2D array are :\",np.unique(x))"
   ]
  },
  {
   "cell_type": "code",
   "execution_count": null,
   "id": "9f9899f1",
   "metadata": {},
   "outputs": [],
   "source": [
    "#Write a NumPy program to find the indices of the maximum and minimum values along the given axis of an array"
   ]
  },
  {
   "cell_type": "code",
   "execution_count": 24,
   "id": "878d9633",
   "metadata": {},
   "outputs": [
    {
     "name": "stdout",
     "output_type": "stream",
     "text": [
      "Original array:  [1 2 3 4 5 6]\n",
      "Maximum Values:  5\n",
      "Minimum Values:  0\n"
     ]
    }
   ],
   "source": [
    "#             0  1  2  3  4  5\n",
    "x = np.array([1, 2, 3, 4, 5, 6])\n",
    "print(\"Original array: \",x)\n",
    "print(\"Maximum Values: \",np.argmax(x))\n",
    "print(\"Minimum Values: \",np.argmin(x))"
   ]
  },
  {
   "cell_type": "code",
   "execution_count": null,
   "id": "01e3e40a",
   "metadata": {},
   "outputs": [],
   "source": [
    "#Write a NumPy program to create a contiguous flattened array"
   ]
  },
  {
   "cell_type": "code",
   "execution_count": 26,
   "id": "6e0afc82",
   "metadata": {},
   "outputs": [
    {
     "name": "stdout",
     "output_type": "stream",
     "text": [
      "Original array:\n",
      "[[10 20 30]\n",
      " [20 40 50]]\n",
      "New flattened array: [10 20 30 20 40 50]\n"
     ]
    }
   ],
   "source": [
    "x = np.array([[10, 20, 30], [20, 40, 50]])\n",
    "print(\"Original array:\")\n",
    "print(x)\n",
    "y = np.ravel(x)\n",
    "print(\"New flattened array:\",y)\n",
    "#print(y)"
   ]
  },
  {
   "cell_type": "code",
   "execution_count": null,
   "id": "e46fa351",
   "metadata": {},
   "outputs": [],
   "source": [
    "#Write a NumPy program to concatenate two 2-dimensional arrays"
   ]
  },
  {
   "cell_type": "code",
   "execution_count": 32,
   "id": "3527441a",
   "metadata": {},
   "outputs": [
    {
     "name": "stdout",
     "output_type": "stream",
     "text": [
      "Array 1 : \n",
      "[[1 2 3]\n",
      " [4 5 6]\n",
      " [7 8 9]]\n",
      "Array 2 : \n",
      "[[10 11 12]\n",
      " [13 14 15]\n",
      " [16 17 18]]\n",
      "Concatenated array : \n",
      "[[ 1  2  3 10 11 12]\n",
      " [ 4  5  6 13 14 15]\n",
      " [ 7  8  9 16 17 18]]\n"
     ]
    }
   ],
   "source": [
    "# Creating two 2D arrays\n",
    "arr1 = np.arange(1,10).reshape(3,3)\n",
    "arr2 = np.arange(10,19).reshape(3,3)\n",
    "print(\"Array 1 : \")\n",
    "print(arr1)\n",
    "print(\"Array 2 : \")\n",
    "print(arr2)\n",
    " \n",
    "# Concatenating operation\n",
    "# axis = 1 implies that it is being done column-wise\n",
    "conarr = np.concatenate((arr1,arr2),axis=1)\n",
    "print(\"Concatenated array : \")\n",
    "print(conarr)"
   ]
  },
  {
   "cell_type": "code",
   "execution_count": null,
   "id": "390d46d5",
   "metadata": {},
   "outputs": [],
   "source": [
    "#Write a NumPy program to convert 1-D arrays as columns into a 2-D array"
   ]
  },
  {
   "cell_type": "code",
   "execution_count": 36,
   "id": "76c65b62",
   "metadata": {},
   "outputs": [
    {
     "name": "stdout",
     "output_type": "stream",
     "text": [
      "Before reshaping: [1 2 3 4 5 6 7 8]\n",
      "After reshaping having dimension 2x4:\n",
      "[[1 2 3 4]\n",
      " [5 6 7 8]]\n"
     ]
    }
   ],
   "source": [
    "# 1-D array having elements [1 2 3 4 5 6 7 8]\n",
    "arr = np.array([1, 2, 3, 4, 5, 6, 7, 8])\n",
    "  \n",
    "# Print the 1-D array\n",
    "print ('Before reshaping:',arr)\n",
    "\n",
    "arr2 = arr.reshape(2, 4)\n",
    "print ('After reshaping having dimension 2x4:')\n",
    "print (arr2)"
   ]
  },
  {
   "cell_type": "code",
   "execution_count": null,
   "id": "83d57d36",
   "metadata": {},
   "outputs": [],
   "source": [
    "#Write a NumPy program (using NumPy) to sum of all the multiples of 3 or 5 below 100. "
   ]
  },
  {
   "cell_type": "code",
   "execution_count": 38,
   "id": "cc1e7938",
   "metadata": {},
   "outputs": [
    {
     "name": "stdout",
     "output_type": "stream",
     "text": [
      "[ 3  5  6  9 10 12 15 18 20 21 24 25 27 30 33 35 36 39 40 42 45 48 50 51\n",
      " 54 55 57 60 63 65 66 69 70 72 75 78 80 81 84 85 87 90 93 95 96 99]\n",
      "Sum :  2318\n"
     ]
    }
   ],
   "source": [
    "x = np.arange(1, 100)\n",
    "# find  multiple of 3 or 5\n",
    "n= x[(x % 3 == 0) | (x % 5 == 0)]\n",
    "print(n[:100])\n",
    "# print sum the numbers\n",
    "print(\"Sum : \",n.sum())"
   ]
  },
  {
   "cell_type": "code",
   "execution_count": null,
   "id": "5e7f840f",
   "metadata": {},
   "outputs": [],
   "source": [
    "#Write a NumPy program to get the index of a maximum element in a NumPy array along one \n",
    "#axis."
   ]
  },
  {
   "cell_type": "code",
   "execution_count": 3,
   "id": "ae3d5ca8",
   "metadata": {},
   "outputs": [
    {
     "name": "stdout",
     "output_type": "stream",
     "text": [
      "Original array:\n",
      "[[1 2 3]\n",
      " [4 3 1]]\n",
      "Index of a maximum element in a numpy array along one axis:\n",
      "4\n"
     ]
    }
   ],
   "source": [
    "a = np.array([[1,2,3],[4,3,1]])\n",
    "print(\"Original array:\")\n",
    "print(a)\n",
    "i,j = np.unravel_index(a.argmax(), a.shape)\n",
    "print(\"Index of a maximum element in a numpy array along one axis:\")\n",
    "print(a[i,j])"
   ]
  },
  {
   "cell_type": "code",
   "execution_count": null,
   "id": "d9fdec97",
   "metadata": {},
   "outputs": [],
   "source": [
    "#Write a NumPy program to stack 1-D arrays as row wise. "
   ]
  },
  {
   "cell_type": "code",
   "execution_count": 7,
   "id": "7ab6e668",
   "metadata": {},
   "outputs": [
    {
     "name": "stdout",
     "output_type": "stream",
     "text": [
      "\n",
      "Original arrays:\n",
      "Array-1 :  [1 2 3]\n",
      "Array-2 :  [2 3 4]\n",
      "Stack 1-D arrays as rows wise:\n",
      "[[1 2 3]\n",
      " [2 3 4]]\n"
     ]
    }
   ],
   "source": [
    "print(\"\\nOriginal arrays:\")\n",
    "x = np.array((1,2,3))\n",
    "y = np.array((2,3,4))\n",
    "print(\"Array-1 : \",x)\n",
    "print(\"Array-2 : \",y)\n",
    "new_array =  np.row_stack((x, y))\n",
    "print(\"Stack 1-D arrays as rows wise:\")\n",
    "print(new_array)"
   ]
  },
  {
   "cell_type": "code",
   "execution_count": null,
   "id": "94fe7f9b",
   "metadata": {},
   "outputs": [],
   "source": [
    "#Write a NumPy program to stack 1-D arrays as column wise. "
   ]
  },
  {
   "cell_type": "code",
   "execution_count": 8,
   "id": "7dcd2f74",
   "metadata": {},
   "outputs": [
    {
     "name": "stdout",
     "output_type": "stream",
     "text": [
      "\n",
      "Original arrays:\n",
      "Array-1 :  [1 2 3]\n",
      "Array-2 :  [2 3 4]\n",
      "Stack 1-D arrays as rows wise:\n",
      "[[1 2]\n",
      " [2 3]\n",
      " [3 4]]\n"
     ]
    }
   ],
   "source": [
    "print(\"\\nOriginal arrays:\")\n",
    "x = np.array((1,2,3))\n",
    "y = np.array((2,3,4))\n",
    "print(\"Array-1 : \",x)\n",
    "print(\"Array-2 : \",y)\n",
    "new_array =  np.column_stack((x, y))\n",
    "print(\"Stack 1-D arrays as rows wise:\")\n",
    "print(new_array)"
   ]
  },
  {
   "cell_type": "code",
   "execution_count": null,
   "id": "bfcc7612",
   "metadata": {},
   "outputs": [],
   "source": [
    "#Write a NumPy program to get the minimum and maximum value of a given array along the second axis. "
   ]
  },
  {
   "cell_type": "code",
   "execution_count": 11,
   "id": "059a74b6",
   "metadata": {},
   "outputs": [
    {
     "name": "stdout",
     "output_type": "stream",
     "text": [
      "Given Array : \n",
      "[[0 1]\n",
      " [2 3]]\n",
      "Maximum Value: [1 3]\n",
      "Minimum Value: [0 2]\n"
     ]
    }
   ],
   "source": [
    "arr = np.array([[0, 1],[2, 3]])\n",
    "  \n",
    "print(\"Given Array : \")\n",
    "print(arr)\n",
    "# find row-wise max values \n",
    "r1 = np.amax(arr, 1)\n",
    "print(\"Maximum Value:\",r1)\n",
    "  \n",
    "# find row-wise min values\n",
    "r2 = np.amin(arr, 1)\n",
    "print(\"Minimum Value:\",r2)"
   ]
  },
  {
   "cell_type": "code",
   "execution_count": null,
   "id": "45767e42",
   "metadata": {},
   "outputs": [],
   "source": []
  }
 ],
 "metadata": {
  "kernelspec": {
   "display_name": "Python 3 (ipykernel)",
   "language": "python",
   "name": "python3"
  },
  "language_info": {
   "codemirror_mode": {
    "name": "ipython",
    "version": 3
   },
   "file_extension": ".py",
   "mimetype": "text/x-python",
   "name": "python",
   "nbconvert_exporter": "python",
   "pygments_lexer": "ipython3",
   "version": "3.9.7"
  }
 },
 "nbformat": 4,
 "nbformat_minor": 5
}
