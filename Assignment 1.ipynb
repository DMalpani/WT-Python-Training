{
 "cells": [
  {
   "cell_type": "code",
   "execution_count": null,
   "id": "032e5544",
   "metadata": {},
   "outputs": [],
   "source": [
    "#Q1. Create your environment in Anaconda platform . Activate your environment . Open Jupyter IDE and \n",
    "#write simple code to display “Welcome “ Message to user."
   ]
  },
  {
   "cell_type": "code",
   "execution_count": 1,
   "id": "eb21808e",
   "metadata": {},
   "outputs": [
    {
     "name": "stdout",
     "output_type": "stream",
     "text": [
      "Welcome\n"
     ]
    }
   ],
   "source": [
    "print (\"Welcome\")"
   ]
  },
  {
   "cell_type": "code",
   "execution_count": null,
   "id": "b9732fcb",
   "metadata": {},
   "outputs": [],
   "source": [
    "#Q2. Write a python code to check area of circle by accepting radius from user\n",
    "#c.\tRun this code in Jupyter IDE                                                                                                             "
   ]
  },
  {
   "cell_type": "code",
   "execution_count": 6,
   "id": "d1712ce4",
   "metadata": {},
   "outputs": [
    {
     "name": "stdout",
     "output_type": "stream",
     "text": [
      "Enter the number :6\n",
      "Area of circle : 113.04\n"
     ]
    }
   ],
   "source": [
    "radius = int(input(\"Enter the number :\"))\n",
    "print(\"Area of circle :\",3.14*pow(radius,2))"
   ]
  },
  {
   "cell_type": "raw",
   "id": "8da01f6d",
   "metadata": {},
   "source": [
    "#Q3. Accept marks of 5 subjects from User   with decimal point. Find total marks and percentage. "
   ]
  },
  {
   "cell_type": "code",
   "execution_count": 14,
   "id": "8735fc14",
   "metadata": {},
   "outputs": [
    {
     "name": "stdout",
     "output_type": "stream",
     "text": [
      "Enter the marks for subject 1 : 80.0\n",
      "Enter the marks for subject 2 : 90.0\n",
      "Enter the marks for subject 3 : 78.0\n",
      "Enter the marks for subject 4 : 89.0\n",
      "Enter the marks for subject 5 : 87.0\n",
      "Total marks :  424.0\n",
      "Percentage is : 84.8\n"
     ]
    }
   ],
   "source": [
    "sub1 = float(input(\"Enter the marks for subject 1 : \"))\n",
    "sub2 = float(input(\"Enter the marks for subject 2 : \"))\n",
    "sub3 = float(input(\"Enter the marks for subject 3 : \"))\n",
    "sub4 = float(input(\"Enter the marks for subject 4 : \"))\n",
    "sub5 = float(input(\"Enter the marks for subject 5 : \"))\n",
    "total = sub1+sub2+sub3+sub4+sub5\n",
    "print(\"Total marks : \",total)\n",
    "per = (total/500)*100\n",
    "print(\"Percentage is :\",per)\n"
   ]
  },
  {
   "cell_type": "code",
   "execution_count": null,
   "id": "79264e46",
   "metadata": {},
   "outputs": [],
   "source": [
    "#Q4.Accept three numbers form user and display highest from it."
   ]
  },
  {
   "cell_type": "code",
   "execution_count": 2,
   "id": "25c4f055",
   "metadata": {},
   "outputs": [
    {
     "name": "stdout",
     "output_type": "stream",
     "text": [
      "Enter first number :14.0\n",
      "Enter second number :12.5\n",
      "Enter third number :13.0\n",
      "The largest number is : 14.0\n"
     ]
    }
   ],
   "source": [
    "num1 = float(input('Enter first number :'))\n",
    "num2 = float(input('Enter second number :'))\n",
    "num3 = float(input('Enter third number :'))\n",
    "if (num1 >= num2) and (num1 >= num3):\n",
    "    largest = num1\n",
    "elif (num2 >= num1) and (num2 >= num3):\n",
    "    largest = num2\n",
    "else:\n",
    "    largest = num3\n",
    "print(\"The largest number is :\",largest)\n",
    "    "
   ]
  },
  {
   "cell_type": "code",
   "execution_count": null,
   "id": "2b13318a",
   "metadata": {},
   "outputs": [],
   "source": [
    "#Q5. Accept Number to check whether it is even or odd."
   ]
  },
  {
   "cell_type": "code",
   "execution_count": 4,
   "id": "d514efe1",
   "metadata": {},
   "outputs": [
    {
     "name": "stdout",
     "output_type": "stream",
     "text": [
      "Enter the number15\n",
      "15 Number is odd\n"
     ]
    }
   ],
   "source": [
    "num = int(input(\"Enter the number\"))\n",
    "if num % 2 == 0:\n",
    "    print(num,\"Number is even\")\n",
    "else:\n",
    "     print(num,\"Number is odd\")"
   ]
  },
  {
   "cell_type": "code",
   "execution_count": null,
   "id": "27033f88",
   "metadata": {},
   "outputs": [],
   "source": [
    "#Q6.  Note your observations for following  :\n",
    "#a.\tConvert int value to float.\n",
    "#b.\tConvert float value to int.\n",
    "#c.\tConvert String  “55” to int.\n",
    "#d.\tConvert String  ”55.50” to int.\n",
    "#e.\tConvert complex number 45+89j to int.  \n",
    "#f.\tConvert Boolean value to int\n",
    "#g.\tConvert int value to Boolean\n",
    "\n",
    "#Check the type of  variable before and after conversion\n"
   ]
  },
  {
   "cell_type": "code",
   "execution_count": 5,
   "id": "1242eacc",
   "metadata": {},
   "outputs": [
    {
     "name": "stdout",
     "output_type": "stream",
     "text": [
      "5 is of type :  <class 'int'>\n",
      "5.0 is of type :  <class 'float'>\n"
     ]
    }
   ],
   "source": [
    "#a.\tConvert int value to float.\n",
    "a = 5\n",
    "print (a,'is of type : ',type(a))\n",
    "\n",
    "a = float(a)\n",
    "print (a,'is of type : ',type(a))\n"
   ]
  },
  {
   "cell_type": "code",
   "execution_count": 6,
   "id": "4e43da70",
   "metadata": {},
   "outputs": [
    {
     "name": "stdout",
     "output_type": "stream",
     "text": [
      "5.4 is of type :  <class 'float'>\n",
      "5 is of type :  <class 'int'>\n"
     ]
    }
   ],
   "source": [
    "#b.\tConvert float value to int.\n",
    "a = 5.4\n",
    "print (a,'is of type : ',type(a))\n",
    "\n",
    "a = int(a)\n",
    "print (a,'is of type : ',type(a))\n",
    "\n"
   ]
  },
  {
   "cell_type": "code",
   "execution_count": 7,
   "id": "d3c99d3e",
   "metadata": {},
   "outputs": [
    {
     "name": "stdout",
     "output_type": "stream",
     "text": [
      "55 is of type :  <class 'str'>\n",
      "55 is of type :  <class 'int'>\n"
     ]
    }
   ],
   "source": [
    "#c.\tConvert String  “55” to int.\n",
    "a = \"55\"\n",
    "print (a,'is of type : ',type(a))\n",
    "\n",
    "a = int(a)\n",
    "print (a,'is of type : ',type(a))\n"
   ]
  },
  {
   "cell_type": "code",
   "execution_count": 6,
   "id": "3bebb1a0",
   "metadata": {},
   "outputs": [
    {
     "name": "stdout",
     "output_type": "stream",
     "text": [
      "55\n",
      "<class 'int'>\n"
     ]
    }
   ],
   "source": [
    "#d.\tConvert String  ”55.50” to int.a = \"55\"\n",
    "\n",
    "print(int(\"55\"))\n",
    "print(type(int(\"55\")))\n"
   ]
  },
  {
   "cell_type": "code",
   "execution_count": 8,
   "id": "c86ea307",
   "metadata": {},
   "outputs": [
    {
     "name": "stdout",
     "output_type": "stream",
     "text": [
      "(45+89j) is of type :  <class 'complex'>\n",
      "Is of type :  <class 'int'>\n"
     ]
    }
   ],
   "source": [
    "##e.\tConvert complex number 45+89j to int. \n",
    "a = 45+89j\n",
    "print (a,'is of type : ',type(a))\n",
    "\n",
    "a = 45 + 89\n",
    "print ('Is of type : ',type(a))\n",
    "\n",
    "\n"
   ]
  },
  {
   "cell_type": "code",
   "execution_count": 11,
   "id": "06e87cf8",
   "metadata": {},
   "outputs": [
    {
     "name": "stdout",
     "output_type": "stream",
     "text": [
      "<class 'int'>\n"
     ]
    }
   ],
   "source": [
    "#f.\tConvert Boolean value to int\n",
    "x = 1\n",
    "x = int(x == 'true')\n",
    "print(type(x))"
   ]
  },
  {
   "cell_type": "code",
   "execution_count": 12,
   "id": "37c72d56",
   "metadata": {},
   "outputs": [
    {
     "name": "stdout",
     "output_type": "stream",
     "text": [
      "<class 'int'>\n",
      "<class 'bool'>\n"
     ]
    }
   ],
   "source": [
    "#g.\tConvert int value to Boolean\n",
    "a = 12\n",
    "print(type(a))\n",
    "\n",
    "a = bool(a)\n",
    "print(type(a))\n"
   ]
  },
  {
   "cell_type": "code",
   "execution_count": null,
   "id": "e4eb528f",
   "metadata": {},
   "outputs": [],
   "source": [
    "#Q7.  Show the difference between / and // with code example."
   ]
  },
  {
   "cell_type": "code",
   "execution_count": 13,
   "id": "00b2f1c1",
   "metadata": {},
   "outputs": [
    {
     "name": "stdout",
     "output_type": "stream",
     "text": [
      "Enter the number15\n",
      "Enter the number3\n",
      "Result of divison operator : 5.0\n",
      "Result of floor divison operator : 5\n"
     ]
    }
   ],
   "source": [
    "num1 = int(input(\"Enter the number\"))\n",
    "num2 = int(input(\"Enter the number\"))\n",
    "print('Result of divison operator :',num1 / num2)\n",
    "print('Result of floor divison operator :',num1 // num2)"
   ]
  },
  {
   "cell_type": "code",
   "execution_count": null,
   "id": "d2ffa2d1",
   "metadata": {},
   "outputs": [],
   "source": []
  }
 ],
 "metadata": {
  "kernelspec": {
   "display_name": "Python 3 (ipykernel)",
   "language": "python",
   "name": "python3"
  },
  "language_info": {
   "codemirror_mode": {
    "name": "ipython",
    "version": 3
   },
   "file_extension": ".py",
   "mimetype": "text/x-python",
   "name": "python",
   "nbconvert_exporter": "python",
   "pygments_lexer": "ipython3",
   "version": "3.9.7"
  }
 },
 "nbformat": 4,
 "nbformat_minor": 5
}
